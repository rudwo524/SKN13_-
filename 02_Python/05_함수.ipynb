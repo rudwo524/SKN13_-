{
 "cells": [
  {
   "cell_type": "code",
   "execution_count": 3,
   "metadata": {},
   "outputs": [],
   "source": [
    "# 10 + 20 \n",
    "\n",
    "#+\n",
    "# 10, 20\n",
    "30: 처리결과 -> 출력"
   ]
  },
  {
   "cell_type": "markdown",
   "metadata": {
    "slideshow": {
     "slide_type": "slide"
    }
   },
   "source": [
    "# 함수란\n",
    "\n",
    "-   함수란 **입력변수와 출력변수간의 대응 관계**를 정의한 것을 말한다.\n",
    "-   프로그램에서 함수란 하나의 작업, 기능, 동작을 처리하기 위한 사용자 정의 연산자라고 할 수 있다.\n",
    "    -   함수는 값을 **입력(Input)을** 받아서 **처리 후** 처리결과를 **출력(Output)하는** 일련의 과정을 정의한 것을 말한다.\n",
    "    -   만들어진 함수는 동일한 작업이 필요할 때 마다 재사용될 수 있다.\n",
    "    -   함수를 구현해 파이썬 실행환경에 등록하는 것을 **함수를 정의(define)한다** 라고 한다.\n",
    "    -   정의된 함수를 사용하는 것을 **함수를 호출(call)한다** 라고 한다.\n",
    "    -   파이썬에서 함수는 일급 시민 객체(First Class Citizen/First Class Object)이다.\n",
    "\n",
    "> -   **일급 시민 객체 란**  \n",
    ">      – **변수에 할당할 수 있고, 함수의 입력값으로 전달할 수 있고, 함수의 반환 값으로 반환할 수 있는 객체를 말한다.**\n",
    ">\n",
    "> -   일급시민객체는 일급시민 이란 말에서 유래된 용어이다.\n",
    ">          - 일급 시민이란 자유롭게 거주하며 일을 할 수 있고, 출입국의 자유를 가지며 투표의 자유를 가지는 시민을 의미한다.\n",
    ">          - 일급 시민 객체란 적용 가능한 연산을 모두 지원하는 객체를 뜻한다."
   ]
  },
  {
   "cell_type": "markdown",
   "metadata": {
    "slideshow": {
     "slide_type": "slide"
    }
   },
   "source": [
    "## 함수 정의\n",
    "\n",
    "-   새로운 함수를 만드는 것을 함수의 정의라고 한다.\n",
    "-   함수를 구현하고 그것을 **파이썬 실행환경에** 새로운 기능으로 **등록하는** 과정을 말한다.\n",
    "\n",
    "### 함수 구현\n",
    "\n",
    "-   함수의 선언부와 구현부로 나누어진다\n",
    "    -   함수의 선언부(Header) : 함수의 이름과 입력값을 받을 변수(Parameter, 매개변수)를 지정한다.\n",
    "    -   함수의 구현부(Body) : 함수가 호출 되었을 때 실행할 실행문들을 순서대로 작성한다.\n"
   ]
  },
  {
   "cell_type": "markdown",
   "metadata": {
    "slideshow": {
     "slide_type": "fragment"
    }
   },
   "source": [
    "```python\n",
    "def 함수이름( [변수, 변수, ..]):  # 선언 부(Header)\n",
    "    # 구현 부(body)\n",
    "    실행구문1\n",
    "    실행구문2\n",
    "    실행구문3\n",
    "    …\n",
    "    [return [결과값]]\n",
    "```\n",
    "\n",
    "-   함수 선언 마지막에는 `:` 을 넣어 구현부와 구분한다.\n",
    "-   Parameter(매개변수)는 argument(호출하는 곳에서 전달하는 함수의 입력값)를 받기 위한 변수로 0개 이상 선언할 수 있다.\n",
    "-   함수의 실행구문은 코드블록으로 들여쓰기로 블록을 묶어준다.\n",
    "    -   들여쓰기는 보통 공백 4칸을 사용한다.\n",
    "-   함수의 처리 결과값이 있을 경우 **return 구문**을 넣고 없을 경우 return은 생략할 수 있다.\n",
    "-   **함수이름 관례**\n",
    "    -   함수이름은 보통 동사형으로 만든다.\n",
    "    -   Snake 표기법사용: 모두 소문자로 하고 여러단어로 구성할 경우 각 단어들을 `_`로 연결한다. (변수와 동일)\n"
   ]
  },
  {
   "cell_type": "code",
   "execution_count": 4,
   "metadata": {
    "slideshow": {
     "slide_type": "fragment"
    }
   },
   "outputs": [],
   "source": [
    "# 함수 정의)\n",
    "## 파라미터(입력), 리턴값(출력) 모두 없는 함수.\n",
    "def greetings(): #선언부(Header)\n",
    "    print(\"안녕하세요.\")\n",
    "    print(\"반갑습니다.\")"
   ]
  },
  {
   "cell_type": "code",
   "execution_count": 6,
   "metadata": {
    "slideshow": {
     "slide_type": "fragment"
    }
   },
   "outputs": [
    {
     "name": "stdout",
     "output_type": "stream",
     "text": [
      "안녕하세요.\n",
      "반갑습니다.\n"
     ]
    }
   ],
   "source": [
    "greetings() #호출: 함수이름([입력값들])"
   ]
  },
  {
   "cell_type": "code",
   "execution_count": 7,
   "metadata": {},
   "outputs": [],
   "source": [
    "# 파라미터가 있는 함수\n",
    "def greetings(name):\n",
    "    print(f\"{name}님 안녕하세요.\")"
   ]
  },
  {
   "cell_type": "code",
   "execution_count": 8,
   "metadata": {},
   "outputs": [
    {
     "name": "stdout",
     "output_type": "stream",
     "text": [
      "이순신님 안녕하세요.\n"
     ]
    }
   ],
   "source": [
    "greetings(\"이순신\")  # 함수 parameter에 전달하는 값(argument)는 () 안에 집어 넣음"
   ]
  },
  {
   "cell_type": "code",
   "execution_count": 9,
   "metadata": {},
   "outputs": [
    {
     "name": "stdout",
     "output_type": "stream",
     "text": [
      "유관순님 안녕하세요.\n"
     ]
    }
   ],
   "source": [
    "greetings(\"유관순\")"
   ]
  },
  {
   "cell_type": "code",
   "execution_count": 11,
   "metadata": {},
   "outputs": [],
   "source": [
    "#greetings()  # missing argument"
   ]
  },
  {
   "cell_type": "code",
   "execution_count": 12,
   "metadata": {},
   "outputs": [],
   "source": [
    "def greetings2(name, age, address):\n",
    "    print(f\"{address}에 사는 {age}세의 {name}님 환영합니다.\")"
   ]
  },
  {
   "cell_type": "code",
   "execution_count": 13,
   "metadata": {},
   "outputs": [
    {
     "name": "stdout",
     "output_type": "stream",
     "text": [
      "광주에 사는 30세의 홍길동님 환영합니다.\n"
     ]
    }
   ],
   "source": [
    "greetings2('홍길동', 30, '광주')"
   ]
  },
  {
   "cell_type": "code",
   "execution_count": 15,
   "metadata": {},
   "outputs": [],
   "source": [
    "# greetings2('홍길동', 30) #missing argument"
   ]
  },
  {
   "cell_type": "code",
   "execution_count": 16,
   "metadata": {},
   "outputs": [
    {
     "name": "stdout",
     "output_type": "stream",
     "text": [
      "홍길동에 사는 서울세의 30님 환영합니다.\n"
     ]
    }
   ],
   "source": [
    "greetings2(30, \"서울\", \"홍길동\")"
   ]
  },
  {
   "cell_type": "markdown",
   "metadata": {
    "slideshow": {
     "slide_type": "subslide"
    }
   },
   "source": [
    "## 함수 parameter와 return value\n",
    "\n",
    "-   **parameter:** 함수가 호출하는 곳으로 부터 입력받는 값을 저장하는 변수.\n",
    "    -   **arugument:**  호출할 때 파라미터에 전달 하는 값.\n",
    "-   **return value:** 함수의 처리결과로 호출하는 곳에 전달(반환)하는 값.\n",
    "\n",
    "### return value(반환값)\n",
    "\n",
    "-   함수가 호출받아 처리한 결과값으로 호출한 곳으로 반환하는 값이다.\n",
    "-   함수 구현부에 return \\[값\\] 구문을 사용해 반환한다.\n",
    "    -   **return**\n",
    "        -   함수가 정상적으로 끝났고 호출한곳으로 돌아간다.\n",
    "        -   보통은 함수 구현의 마지막에 넣지만 경우에 따라 중간에 올 수 있다.\n",
    "    -   return 반환값\n",
    "        -   호출한 곳으로 값을 가지고 돌아간다. (반환한다)\n",
    "        -   반환값이 없을 경우 None을 반환한다.\n",
    "        -   함수에 return 구문이 없을 경우 마지막에 return None이 실행된다.\n",
    "-   여러개의 값을 return 하는 경우 자료구조로 묶어서 전달해야한다.\n",
    "    -   함수는 한개의 값만 반환할 수 있다.\n"
   ]
  },
  {
   "cell_type": "code",
   "execution_count": 20,
   "metadata": {
    "slideshow": {
     "slide_type": "fragment"
    }
   },
   "outputs": [],
   "source": [
    "def greetings3(name):\n",
    "    return f\"{name}님 환영합니다.\""
   ]
  },
  {
   "cell_type": "code",
   "execution_count": 19,
   "metadata": {
    "slideshow": {
     "slide_type": "fragment"
    }
   },
   "outputs": [],
   "source": [
    "s = greetings3(\"홍길동\")"
   ]
  },
  {
   "cell_type": "code",
   "execution_count": 21,
   "metadata": {},
   "outputs": [
    {
     "data": {
      "text/plain": [
       "'홍길동님 환영합니다.'"
      ]
     },
     "execution_count": 21,
     "metadata": {},
     "output_type": "execute_result"
    }
   ],
   "source": [
    "s"
   ]
  },
  {
   "cell_type": "code",
   "execution_count": 22,
   "metadata": {},
   "outputs": [
    {
     "data": {
      "text/plain": [
       "'이순신님 환영합니다.'"
      ]
     },
     "execution_count": 22,
     "metadata": {},
     "output_type": "execute_result"
    }
   ],
   "source": [
    "greetings3(\"이순신\")"
   ]
  },
  {
   "cell_type": "code",
   "execution_count": 26,
   "metadata": {},
   "outputs": [],
   "source": [
    "def calculate(num1, num2):\n",
    "    r1 = num1 + num2\n",
    "    r2 = num1 - num2\n",
    "    r3 = num1 * num2\n",
    "    r4 = num1 / num2\n",
    "    #모든 계산 결과를 반환.\n",
    "    # return [r1, r2, r3, r4]\n",
    "    # return r1, r2, r3, r4    #tuple(괄호생략)\n",
    "    return dict(plus=r1, minus=r2, multiply=r3, divide=r4)"
   ]
  },
  {
   "cell_type": "code",
   "execution_count": 27,
   "metadata": {},
   "outputs": [
    {
     "data": {
      "text/plain": [
       "{'plus': 15, 'minus': 5, 'multiply': 50, 'divide': 2.0}"
      ]
     },
     "execution_count": 27,
     "metadata": {},
     "output_type": "execute_result"
    }
   ],
   "source": [
    "result = calculate(10, 5)\n",
    "result"
   ]
  },
  {
   "cell_type": "code",
   "execution_count": 29,
   "metadata": {},
   "outputs": [],
   "source": [
    "def divide(num1, num2):\n",
    "    if num2 == 0:\n",
    "        return #함수 실행을 종료하고 호출한 곳으로 돌아가. None을 반환.\n",
    "    return num1 / num2"
   ]
  },
  {
   "cell_type": "code",
   "execution_count": 34,
   "metadata": {},
   "outputs": [
    {
     "name": "stdout",
     "output_type": "stream",
     "text": [
      "결과: 5.0\n"
     ]
    }
   ],
   "source": [
    "result = divide(10, 2)\n",
    "# print(result)\n",
    "if result is None:\n",
    "    print('계산 실패')\n",
    "else:\n",
    "    print('결과:', result)"
   ]
  },
  {
   "cell_type": "markdown",
   "metadata": {
    "slideshow": {
     "slide_type": "slide"
    }
   },
   "source": [
    "## Parameter (매개변수)\n",
    "\n",
    "### 기본값이 있는 Parameter\n",
    "\n",
    "-   매개변수에 값을 대입하는 구문을 작성하면 호출할 때 argument 가 넘어오지 않으면 대입해놓은 기본값을 사용한다.\n",
    "-   함수 정의시 기본값 없는 매개변수, 있는 매개변수를 같이 선언할 수 있다.\n",
    "    -   **이때 기본값 없는 매개변수들을 선언하고 그 다음에 기본값 있는 매개변수들을 선언한다.**\n"
   ]
  },
  {
   "cell_type": "code",
   "execution_count": 35,
   "metadata": {
    "slideshow": {
     "slide_type": "fragment"
    }
   },
   "outputs": [
    {
     "name": "stdout",
     "output_type": "stream",
     "text": [
      "이름:홍길동\n"
     ]
    }
   ],
   "source": [
    "def print_info(name):\n",
    "    print(f\"이름:{name}\")\n",
    "\n",
    "print_info(\"홍길동\")"
   ]
  },
  {
   "cell_type": "code",
   "execution_count": null,
   "metadata": {},
   "outputs": [],
   "source": [
    "# print_info()"
   ]
  },
  {
   "cell_type": "code",
   "execution_count": 39,
   "metadata": {},
   "outputs": [],
   "source": [
    "def print_info2(name = None):\n",
    "    if name in None:\n",
    "        print(\"입력된 값이 없다.\")\n",
    "    print(f\"이름:{name}\")"
   ]
  },
  {
   "cell_type": "code",
   "execution_count": 41,
   "metadata": {},
   "outputs": [
    {
     "ename": "TypeError",
     "evalue": "argument of type 'NoneType' is not iterable",
     "output_type": "error",
     "traceback": [
      "\u001b[31m---------------------------------------------------------------------------\u001b[39m",
      "\u001b[31mTypeError\u001b[39m                                 Traceback (most recent call last)",
      "\u001b[36mCell\u001b[39m\u001b[36m \u001b[39m\u001b[32mIn[41]\u001b[39m\u001b[32m, line 1\u001b[39m\n\u001b[32m----> \u001b[39m\u001b[32m1\u001b[39m \u001b[43mprint_info2\u001b[49m\u001b[43m(\u001b[49m\u001b[33;43m\"\u001b[39;49m\u001b[33;43m이순신\u001b[39;49m\u001b[33;43m\"\u001b[39;49m\u001b[43m)\u001b[49m\n",
      "\u001b[36mCell\u001b[39m\u001b[36m \u001b[39m\u001b[32mIn[39]\u001b[39m\u001b[32m, line 2\u001b[39m, in \u001b[36mprint_info2\u001b[39m\u001b[34m(name)\u001b[39m\n\u001b[32m      1\u001b[39m \u001b[38;5;28;01mdef\u001b[39;00m \u001b[34mprint_info2\u001b[39m(name = \u001b[38;5;28;01mNone\u001b[39;00m):\n\u001b[32m----> \u001b[39m\u001b[32m2\u001b[39m     \u001b[38;5;28;01mif\u001b[39;00m \u001b[43mname\u001b[49m\u001b[43m \u001b[49m\u001b[38;5;129;43;01min\u001b[39;49;00m\u001b[43m \u001b[49m\u001b[38;5;28;43;01mNone\u001b[39;49;00m:\n\u001b[32m      3\u001b[39m         \u001b[38;5;28mprint\u001b[39m(\u001b[33m\"\u001b[39m\u001b[33m입력된 값이 없다.\u001b[39m\u001b[33m\"\u001b[39m)\n\u001b[32m      4\u001b[39m     \u001b[38;5;28mprint\u001b[39m(\u001b[33mf\u001b[39m\u001b[33m\"\u001b[39m\u001b[33m이름:\u001b[39m\u001b[38;5;132;01m{\u001b[39;00mname\u001b[38;5;132;01m}\u001b[39;00m\u001b[33m\"\u001b[39m)\n",
      "\u001b[31mTypeError\u001b[39m: argument of type 'NoneType' is not iterable"
     ]
    }
   ],
   "source": [
    "print_info2(\"이순신\")"
   ]
  },
  {
   "cell_type": "code",
   "execution_count": 38,
   "metadata": {},
   "outputs": [
    {
     "name": "stdout",
     "output_type": "stream",
     "text": [
      "이름:None\n"
     ]
    }
   ],
   "source": [
    "print_info2()"
   ]
  },
  {
   "cell_type": "code",
   "execution_count": 42,
   "metadata": {},
   "outputs": [],
   "source": [
    "def print_info(name, age, address, height = 0, weight = 0):    # #default값이 없는 변수 먼저 선언\n",
    "    print(name, age, address, height, weight)"
   ]
  },
  {
   "cell_type": "code",
   "execution_count": 43,
   "metadata": {},
   "outputs": [
    {
     "name": "stdout",
     "output_type": "stream",
     "text": [
      "이순신 20 서울 0 0\n"
     ]
    }
   ],
   "source": [
    "print_info(\"이순신\", 20, \"서울\")"
   ]
  },
  {
   "cell_type": "code",
   "execution_count": 44,
   "metadata": {},
   "outputs": [
    {
     "name": "stdout",
     "output_type": "stream",
     "text": [
      "이순신 20 서울 182.6 0\n"
     ]
    }
   ],
   "source": [
    "print_info(\"이순신\", 20, \"서울\", 182.6)"
   ]
  },
  {
   "cell_type": "code",
   "execution_count": 46,
   "metadata": {},
   "outputs": [
    {
     "ename": "SyntaxError",
     "evalue": "parameter without a default follows parameter with a default (1176611089.py, line 1)",
     "output_type": "error",
     "traceback": [
      "  \u001b[36mCell\u001b[39m\u001b[36m \u001b[39m\u001b[32mIn[46]\u001b[39m\u001b[32m, line 1\u001b[39m\n\u001b[31m    \u001b[39m\u001b[31mdef print_info2(name, age = -1, address, height = 0, weight = 0):    #default값이 없는 변수 먼저 선언\u001b[39m\n                                    ^\n\u001b[31mSyntaxError\u001b[39m\u001b[31m:\u001b[39m parameter without a default follows parameter with a default\n"
     ]
    }
   ],
   "source": [
    "def print_info2(name, age = -1, address, height = 0, weight = 0):    #default값이 없는 변수 먼저 선언\n",
    "    print(name, age, address, height, weight)"
   ]
  },
  {
   "cell_type": "markdown",
   "metadata": {
    "slideshow": {
     "slide_type": "subslide"
    }
   },
   "source": [
    "### Positional argument와 Keyword argument\n",
    "\n",
    "-   Argument는 함수/메소드를 호출할 때 전달하는 입력값을 말한다.\n",
    "    -   Argument는 전달하는 값이고 Parameter는 그 값을 저장하는 변수\n",
    "-   Positional argument\n",
    "    -   함수 호출 할때 argument(전달인자)를 Parameter 순서에 맞춰 값을 넣어서 호출.\n",
    "-   keyword argument\n",
    "    -   함수 호출할 때 argument를 `Parameter변수명 = 전달할값` 형식으로 선언해서 어떤 parameter에 어떤 값을 전달할 것인지 지정해서 호출.\n",
    "    -   순서와 상관없이 호출하는 것이 가능.\n",
    "    -   parameter가 많고 대부분 기본값이 있는 함수 호출 할 때 뒤 쪽에 선언된 parameter에만 값을 전달하고 싶을 경우 유용하다.\n"
   ]
  },
  {
   "cell_type": "code",
   "execution_count": 3,
   "metadata": {
    "slideshow": {
     "slide_type": "fragment"
    }
   },
   "outputs": [],
   "source": [
    "def print_info(name, age, address, height = 0, weight = 0):\n",
    "    print(name, age, address, height, weight)"
   ]
  },
  {
   "cell_type": "code",
   "execution_count": 4,
   "metadata": {},
   "outputs": [
    {
     "name": "stdout",
     "output_type": "stream",
     "text": [
      "홍길동 20 서울 0 0\n"
     ]
    }
   ],
   "source": [
    "print_info(\"홍길동\", 20, \"서울\")  #positional argument(순서에 맞춰서 값을 전달.)"
   ]
  },
  {
   "cell_type": "code",
   "execution_count": 5,
   "metadata": {},
   "outputs": [
    {
     "name": "stdout",
     "output_type": "stream",
     "text": [
      "이순신 40 인천 190.2 0\n"
     ]
    }
   ],
   "source": [
    "print_info(name = \"이순신\", age = 40, address = \"인천\", height = 190.2)\n",
    "# keyword argument : 파라미터이름 = 전달할 값"
   ]
  },
  {
   "cell_type": "code",
   "execution_count": 6,
   "metadata": {},
   "outputs": [],
   "source": [
    "def print_info2(name = None, age = None, address = None, height = 0, weight = 0):\n",
    "    print(name, age, address, height, weight)"
   ]
  },
  {
   "cell_type": "code",
   "execution_count": 7,
   "metadata": {},
   "outputs": [
    {
     "name": "stdout",
     "output_type": "stream",
     "text": [
      "None None None 0 70\n"
     ]
    }
   ],
   "source": [
    "print_info2(weight = 70)"
   ]
  },
  {
   "cell_type": "code",
   "execution_count": null,
   "metadata": {},
   "outputs": [],
   "source": []
  },
  {
   "cell_type": "markdown",
   "metadata": {
    "slideshow": {
     "slide_type": "subslide"
    }
   },
   "source": [
    "### 가변인자 (Var args) 파라미터\n",
    "\n",
    "-   호출하는 쪽에서 argument로 0 ~ n개의 값을 나열해서 여러개의 값들을 전달하면 **tuple이나 dictionary로 묶어서** 받을 수있도록 선언하는 parameter\n",
    "    -   positial argument로 전달하는 것과 keyword argument로 전달되는 값을 받는 두가지 방식이 있다.\n",
    "-   **\\*변수명**: **positional argument**를 개수와 상관없이 하나의 변수로 받을 수 있도록 선언하는 가변인자.\n",
    "    -   전달된 값들은 tuple로 받아서 처리한다.\n",
    "    -   관례적으로 변수명은 \\*args 를 사용한다.\n",
    "-   **\\*\\*변수명**: **keyword argument**를 개수와 상관없이 하나의 변수로 받을 수 있도록 선언하는 가변인자.\n",
    "    -   전달된 값들은 dictionary로 받아서 처리한다.\n",
    "    -   관례적으로 변수명은 \\*\\*kwargs 를 사용한다.\n",
    "-   하나의 함수에 가변인자는 \\* 하나, \\*\\* 두개짜리 각각 한개씩만 선언할 수 있다.\n",
    "-   하나의 함수에 위치 가변 인자와 키워드 가변 인자를 하나씩만 선언 할 수있다.\n",
    "-   하나의 함수에 같이 선언할 경우 위치 가변인자, 키워드 가변인자 순서로 하나씩만 작성할 수 있다.\n",
    "-   일반 파라미터는 위치 가변인자 앞이나 뒤에 작성할 수있다.\n",
    "-   만약 뒤에 작성한 경우 함수 호출시 일반파라미터는 keyword argument 방식으로 호출해야 한다.\n",
    "-   키워드 가변인자 뒤에는 일반 파라미터를 작성할 수 없다."
   ]
  },
  {
   "cell_type": "code",
   "execution_count": 11,
   "metadata": {
    "slideshow": {
     "slide_type": "fragment"
    }
   },
   "outputs": [
    {
     "name": "stdout",
     "output_type": "stream",
     "text": [
      "<class 'tuple'> (1, 2)\n",
      "<class 'dict'> {'name': '이순신', 'age': 30, 'addr': '서울'}\n"
     ]
    }
   ],
   "source": [
    "def test(*a, **b):\n",
    "    print(type(a), a)\n",
    "    print(type(b), b)\n",
    "\n",
    "test(1, 2, name = \"이순신\", age = 30, addr = \"서울\")   #개수는 호출하는 쪽에서 결정한다."
   ]
  },
  {
   "cell_type": "code",
   "execution_count": 14,
   "metadata": {},
   "outputs": [
    {
     "data": {
      "text/plain": [
       "1028"
      ]
     },
     "execution_count": 14,
     "metadata": {},
     "output_type": "execute_result"
    }
   ],
   "source": [
    "#숫자들의 합계를 계산하는 함수\n",
    "def my_sum(*nums):\n",
    "    result = 0\n",
    "    for v in nums:\n",
    "        result += v\n",
    "    return result\n",
    "\n",
    "a = my_sum(1, 2, 3, 4, 5, 6, 7, 100, 200, 300, 400)\n",
    "a"
   ]
  },
  {
   "cell_type": "code",
   "execution_count": 16,
   "metadata": {},
   "outputs": [
    {
     "name": "stdout",
     "output_type": "stream",
     "text": [
      "1 2 안녕 True\n"
     ]
    }
   ],
   "source": [
    "print(1, 2, \"안녕\", True)"
   ]
  },
  {
   "cell_type": "code",
   "execution_count": 23,
   "metadata": {},
   "outputs": [
    {
     "name": "stdout",
     "output_type": "stream",
     "text": [
      "안녕, 홍길동\n"
     ]
    }
   ],
   "source": [
    "print(\"안녕\", \"홍길동\", sep = \", \")"
   ]
  },
  {
   "cell_type": "code",
   "execution_count": 18,
   "metadata": {},
   "outputs": [
    {
     "name": "stdout",
     "output_type": "stream",
     "text": [
      "Help on built-in function print in module builtins:\n",
      "\n",
      "print(*args, sep=' ', end='\\n', file=None, flush=False)\n",
      "    Prints the values to a stream, or to sys.stdout by default.\n",
      "\n",
      "    sep\n",
      "      string inserted between values, default a space.\n",
      "    end\n",
      "      string appended after the last value, default a newline.\n",
      "    file\n",
      "      a file-like object (stream); defaults to the current sys.stdout.\n",
      "    flush\n",
      "      whether to forcibly flush the stream.\n",
      "\n"
     ]
    }
   ],
   "source": [
    "help(print)\n",
    "# 이름(파라미터)"
   ]
  },
  {
   "cell_type": "code",
   "execution_count": 21,
   "metadata": {},
   "outputs": [
    {
     "data": {
      "text/plain": [
       "\u001b[31mSignature:\u001b[39m print(*args, sep=\u001b[33m' '\u001b[39m, end=\u001b[33m'\\n'\u001b[39m, file=\u001b[38;5;28;01mNone\u001b[39;00m, flush=\u001b[38;5;28;01mFalse\u001b[39;00m)\n",
       "\u001b[31mDocstring:\u001b[39m\n",
       "Prints the values to a stream, or to sys.stdout by default.\n",
       "\n",
       "sep\n",
       "  string inserted between values, default a space.\n",
       "end\n",
       "  string appended after the last value, default a newline.\n",
       "file\n",
       "  a file-like object (stream); defaults to the current sys.stdout.\n",
       "flush\n",
       "  whether to forcibly flush the stream.\n",
       "\u001b[31mType:\u001b[39m      builtin_function_or_method"
      ]
     },
     "metadata": {},
     "output_type": "display_data"
    }
   ],
   "source": [
    "print?"
   ]
  },
  {
   "cell_type": "code",
   "execution_count": 28,
   "metadata": {},
   "outputs": [
    {
     "ename": "SyntaxError",
     "evalue": "arguments cannot follow var-keyword argument (400917179.py, line 1)",
     "output_type": "error",
     "traceback": [
      "  \u001b[36mCell\u001b[39m\u001b[36m \u001b[39m\u001b[32mIn[28]\u001b[39m\u001b[32m, line 1\u001b[39m\n\u001b[31m    \u001b[39m\u001b[31mdef test(**kwargs, b):\u001b[39m\n                       ^\n\u001b[31mSyntaxError\u001b[39m\u001b[31m:\u001b[39m arguments cannot follow var-keyword argument\n"
     ]
    }
   ],
   "source": [
    "def test(**kwargs, b):\n",
    "    pass"
   ]
  },
  {
   "cell_type": "code",
   "execution_count": 27,
   "metadata": {},
   "outputs": [],
   "source": [
    "def func(*args, **kwargs):\n",
    "    pass\n",
    "\n",
    "def func(a, b, c, d, *args, **kwargs):\n",
    "    pass"
   ]
  },
  {
   "cell_type": "markdown",
   "metadata": {
    "slideshow": {
     "slide_type": "slide"
    }
   },
   "source": [
    "# 변수의 유효범위\n",
    "\n",
    "-   **지역변수 (local variable)**\n",
    "    -   함수안에 선언된 변수\n",
    "    -   선언된 그 함수 안에서만 사용할 수 있다.\n",
    "-   **전역변수 (global variable)**\n",
    "    -   함수 밖에 선언 된 변수\n",
    "    -   모든 함수들이 공통적으로 사용할 수 있다.\n",
    "    -   하나의 함수에서 값을 변경하면 그 변한 값이 모든 함수에 영향을 주기 때문에 **함부로 변경하지 않는다.**\n",
    "    -   함수내에서 전역변수에 값을 대입하기 위해서는 global 키워드를 이용해 사용할 것을 미리 선언해야 한다.\n",
    "        -   global로 선언하지 않고 함수안에서 전역변수와 이름이 같은 변수에 값을 대입하면 그 변수와 동일한 지역변수을 생성한다.\n",
    "        -   조회할 경우에는 상관없다.\n",
    "            -   함수에서 변수를 조회할 경우 **먼저 지역변수를 찾고 없으면 전역변수를 찾는다.**\n"
   ]
  },
  {
   "cell_type": "code",
   "execution_count": 37,
   "metadata": {},
   "outputs": [
    {
     "name": "stdout",
     "output_type": "stream",
     "text": [
      "홍길동 30\n"
     ]
    }
   ],
   "source": [
    "name = \"홍길동\"\n",
    "age = 30\n",
    "print(name, age)"
   ]
  },
  {
   "cell_type": "code",
   "execution_count": 39,
   "metadata": {
    "slideshow": {
     "slide_type": "fragment"
    }
   },
   "outputs": [
    {
     "name": "stdout",
     "output_type": "stream",
     "text": [
      "10\n",
      "40\n"
     ]
    }
   ],
   "source": [
    "def test():\n",
    "    my_var = 10  #지역 변수(local variable), 임시 변수(temporary variable)\n",
    "    print(my_var)\n",
    "    a = my_var + age\n",
    "    print(a)\n",
    "test()"
   ]
  },
  {
   "cell_type": "code",
   "execution_count": 30,
   "metadata": {},
   "outputs": [
    {
     "ename": "SyntaxError",
     "evalue": "Missing parentheses in call to 'print'. Did you mean print(...)? (3998112904.py, line 1)",
     "output_type": "error",
     "traceback": [
      "  \u001b[36mCell\u001b[39m\u001b[36m \u001b[39m\u001b[32mIn[30]\u001b[39m\u001b[32m, line 1\u001b[39m\n\u001b[31m    \u001b[39m\u001b[31mprint my_var\u001b[39m\n    ^\n\u001b[31mSyntaxError\u001b[39m\u001b[31m:\u001b[39m Missing parentheses in call to 'print'. Did you mean print(...)?\n"
     ]
    }
   ],
   "source": [
    "print my_var"
   ]
  },
  {
   "cell_type": "code",
   "execution_count": 40,
   "metadata": {},
   "outputs": [
    {
     "name": "stdout",
     "output_type": "stream",
     "text": [
      "홍길동 30\n"
     ]
    }
   ],
   "source": [
    "def test2():\n",
    "    print(name, age)\n",
    "\n",
    "test2()"
   ]
  },
  {
   "cell_type": "code",
   "execution_count": 46,
   "metadata": {},
   "outputs": [
    {
     "name": "stdout",
     "output_type": "stream",
     "text": [
      "30 20\n"
     ]
    }
   ],
   "source": [
    "name = 20\n",
    "\n",
    "def test():\n",
    "    a = 30\n",
    "    print(a, name)\n",
    "\n",
    "def test2(par):\n",
    "    print(name)\n",
    "test()"
   ]
  },
  {
   "cell_type": "code",
   "execution_count": 53,
   "metadata": {},
   "outputs": [],
   "source": [
    "g_var = 10     #global variable\n",
    "def func():\n",
    "    local_var = 100    #local variable\n",
    "    global g_var #g_var라는 변수를 사용하면 이것은 global 변수를 말한다 라고 선언.(값을 변경할 때만 선언한다.)\n",
    "    g_var = \"안녕하세요\"     #(local variable 선언.) -> local variable\n",
    "    print(local_var)   #local variable 사용\n",
    "    print(g_var)\n",
    "\n",
    "def func2():\n",
    "    global g_var\n",
    "    g_var = 2020202\n",
    "\n",
    "def func3():\n",
    "    global g_var\n",
    "    g_var = True    "
   ]
  },
  {
   "cell_type": "code",
   "execution_count": 55,
   "metadata": {},
   "outputs": [
    {
     "name": "stdout",
     "output_type": "stream",
     "text": [
      "100\n",
      "안녕하세요\n"
     ]
    },
    {
     "data": {
      "text/plain": [
       "True"
      ]
     },
     "execution_count": 55,
     "metadata": {},
     "output_type": "execute_result"
    }
   ],
   "source": [
    "func()\n",
    "func2()\n",
    "func3()\n",
    "g_var"
   ]
  },
  {
   "cell_type": "code",
   "execution_count": 59,
   "metadata": {},
   "outputs": [
    {
     "data": {
      "text/plain": [
       "True"
      ]
     },
     "execution_count": 59,
     "metadata": {},
     "output_type": "execute_result"
    }
   ],
   "source": [
    "g_var"
   ]
  },
  {
   "cell_type": "markdown",
   "metadata": {
    "slideshow": {
     "slide_type": "slide"
    }
   },
   "source": [
    "# 함수는 일급시민(First class citizen) 이다.\n",
    "\n",
    "-   일급 시민\n",
    "    1. 변수에 대입 할 수 있다.\n",
    "    1. **Argument로 사용**할 수 있다.\n",
    "    1. 함수나 메소드의 반환값으로 사용 할 수 있다.\n",
    "-   즉 파이썬에서 함수는 일반 값(객체)으로 취급된다.\n"
   ]
  },
  {
   "cell_type": "code",
   "execution_count": 60,
   "metadata": {},
   "outputs": [],
   "source": [
    "def hello():\n",
    "    print(\"Hello World!\")"
   ]
  },
  {
   "cell_type": "code",
   "execution_count": 65,
   "metadata": {
    "slideshow": {
     "slide_type": "fragment"
    }
   },
   "outputs": [
    {
     "name": "stdout",
     "output_type": "stream",
     "text": [
      "Hello World!\n"
     ]
    }
   ],
   "source": [
    "hello() #call(호출) -> 일 시키기."
   ]
  },
  {
   "cell_type": "code",
   "execution_count": 64,
   "metadata": {},
   "outputs": [
    {
     "data": {
      "text/plain": [
       "<function __main__.hello()>"
      ]
     },
     "execution_count": 64,
     "metadata": {},
     "output_type": "execute_result"
    }
   ],
   "source": [
    "hello #함수 객체(값) 자체를 호출"
   ]
  },
  {
   "cell_type": "code",
   "execution_count": 67,
   "metadata": {},
   "outputs": [],
   "source": [
    "my_hello = hello  "
   ]
  },
  {
   "cell_type": "code",
   "execution_count": 68,
   "metadata": {},
   "outputs": [
    {
     "name": "stdout",
     "output_type": "stream",
     "text": [
      "Hello World!\n"
     ]
    }
   ],
   "source": [
    "hello()"
   ]
  },
  {
   "cell_type": "code",
   "execution_count": 71,
   "metadata": {},
   "outputs": [
    {
     "name": "stdout",
     "output_type": "stream",
     "text": [
      "Hello World!\n"
     ]
    }
   ],
   "source": [
    "my_hello()"
   ]
  },
  {
   "cell_type": "code",
   "execution_count": 74,
   "metadata": {},
   "outputs": [
    {
     "name": "stdout",
     "output_type": "stream",
     "text": [
      "Hello World!\n"
     ]
    }
   ],
   "source": [
    "test_hello = my_hello\n",
    "test_hello()"
   ]
  },
  {
   "cell_type": "code",
   "execution_count": null,
   "metadata": {},
   "outputs": [],
   "source": [
    "a = 10\n",
    "b = a\n",
    "c = a\n",
    "d = a"
   ]
  },
  {
   "cell_type": "code",
   "execution_count": 77,
   "metadata": {},
   "outputs": [],
   "source": [
    "def test(args):\n",
    "    k = 100\n",
    "    return k"
   ]
  },
  {
   "cell_type": "code",
   "execution_count": 85,
   "metadata": {},
   "outputs": [],
   "source": [
    "r = test(hello)"
   ]
  },
  {
   "cell_type": "code",
   "execution_count": 86,
   "metadata": {},
   "outputs": [],
   "source": [
    "def plus():\n",
    "    print(10+20)"
   ]
  },
  {
   "cell_type": "code",
   "execution_count": 90,
   "metadata": {},
   "outputs": [],
   "source": [
    "def plus(n1, n2):\n",
    "    print(n1 + n2)"
   ]
  },
  {
   "cell_type": "code",
   "execution_count": 89,
   "metadata": {},
   "outputs": [
    {
     "name": "stdout",
     "output_type": "stream",
     "text": [
      "21\n"
     ]
    }
   ],
   "source": [
    "plus(1, 20)"
   ]
  },
  {
   "cell_type": "code",
   "execution_count": 91,
   "metadata": {},
   "outputs": [],
   "source": [
    "def search(주제, 검색한다):\n",
    "    검색결과 = 검색한다(주제)\n",
    "    요약결과 = 요약한다(검색결과)\n",
    "    return 요약결과"
   ]
  },
  {
   "cell_type": "code",
   "execution_count": 92,
   "metadata": {},
   "outputs": [
    {
     "ename": "NameError",
     "evalue": "name '네이버검색함수' is not defined",
     "output_type": "error",
     "traceback": [
      "\u001b[31m---------------------------------------------------------------------------\u001b[39m",
      "\u001b[31mNameError\u001b[39m                                 Traceback (most recent call last)",
      "\u001b[36mCell\u001b[39m\u001b[36m \u001b[39m\u001b[32mIn[92]\u001b[39m\u001b[32m, line 1\u001b[39m\n\u001b[32m----> \u001b[39m\u001b[32m1\u001b[39m search(\u001b[33m\"\u001b[39m\u001b[33m파이썬\u001b[39m\u001b[33m\"\u001b[39m, \u001b[43m네이버검색함수\u001b[49m)\n\u001b[32m      2\u001b[39m search(\u001b[33m\"\u001b[39m\u001b[33m파이썬\u001b[39m\u001b[33m\"\u001b[39m, 구글검색함수)\n",
      "\u001b[31mNameError\u001b[39m: name '네이버검색함수' is not defined"
     ]
    }
   ],
   "source": [
    "search(\"파이썬\", 네이버검색함수)\n",
    "search(\"파이썬\", 구글검색함수)"
   ]
  },
  {
   "cell_type": "code",
   "execution_count": 4,
   "metadata": {},
   "outputs": [],
   "source": [
    "def calc(func):\n",
    "    num1, num2 = 10, 20\n",
    "    #두 숫자를 계산한다.\n",
    "    result = func(num1, num2)\n",
    "    #계산 결과를 출력.\n",
    "    print(result)"
   ]
  },
  {
   "cell_type": "code",
   "execution_count": 5,
   "metadata": {},
   "outputs": [
    {
     "name": "stdout",
     "output_type": "stream",
     "text": [
      "30\n"
     ]
    }
   ],
   "source": [
    "def plus(n1, n2):\n",
    "    return n1 + n2\n",
    "calc(plus)"
   ]
  },
  {
   "cell_type": "code",
   "execution_count": 7,
   "metadata": {},
   "outputs": [
    {
     "name": "stdout",
     "output_type": "stream",
     "text": [
      "-10\n"
     ]
    }
   ],
   "source": [
    "def minus(n1, n2):\n",
    "    return n1 - n2\n",
    "calc(minus)"
   ]
  },
  {
   "cell_type": "markdown",
   "metadata": {
    "slideshow": {
     "slide_type": "slide"
    }
   },
   "source": [
    "## 람다식/람다표현식 (Lambda Expression)\n",
    "\n",
    "-   함수를 표현식(expression)으로 정의한다.\n",
    "-   함수를 하나의 식을 이용해서 정의할때 사용하는 표현식(구문).\n",
    "-   값을 입력받아서 **간단한 처리한 결과**를 반환하는 간단한 함수를 표현식으로 정의할 수 있다.\n",
    "    -   처리결과를 return 하는 구문을 하나의 명령문으로 처리할 수 있을때 람다식을 사용할 수 있다.\n",
    "-   구문\n",
    "\n",
    "```python\n",
    "lambda 매개변수[, 매개변수, ...] : 명령문(구문)\n",
    "```\n",
    "\n",
    "-   명령문(구문)은 하나의 실행문만 가능하다.\n",
    "-   명령문(구문)이 처리한 결과를 리턴해준다.\n",
    "-   **람다식은 함수의 매개변수로 함수를 전달하는 일회성 함수를 만들때 주로 사용한다.**\n"
   ]
  },
  {
   "cell_type": "code",
   "execution_count": 9,
   "metadata": {},
   "outputs": [],
   "source": [
    "def plus(n1, n2):\n",
    "    return n1 + n2"
   ]
  },
  {
   "cell_type": "code",
   "execution_count": 16,
   "metadata": {},
   "outputs": [
    {
     "name": "stdout",
     "output_type": "stream",
     "text": [
      "30\n"
     ]
    },
    {
     "data": {
      "text/plain": [
       "30"
      ]
     },
     "execution_count": 16,
     "metadata": {},
     "output_type": "execute_result"
    }
   ],
   "source": [
    "num1 = 10\n",
    "num2 = 20\n",
    "print(plus(num1, num2))\n",
    "plus(10, 20)"
   ]
  },
  {
   "cell_type": "code",
   "execution_count": 17,
   "metadata": {},
   "outputs": [],
   "source": [
    "a = lambda n1, n2: n1 + n2 #두 개의 값(n1, n2)를 받아서 더한 결과를 리턴하는 람다식(lambda expression)"
   ]
  },
  {
   "cell_type": "code",
   "execution_count": 20,
   "metadata": {},
   "outputs": [
    {
     "name": "stdout",
     "output_type": "stream",
     "text": [
      "200\n"
     ]
    }
   ],
   "source": [
    "calc(lambda n1, n2: n1 * n2)"
   ]
  },
  {
   "cell_type": "code",
   "execution_count": 23,
   "metadata": {},
   "outputs": [
    {
     "data": {
      "text/plain": [
       "9"
      ]
     },
     "execution_count": 23,
     "metadata": {},
     "output_type": "execute_result"
    }
   ],
   "source": [
    "a = lambda x, y, z: len(x) + len(y) + len(z)\n",
    "a(\"aaa\", \"bbb\", \"ccc\")"
   ]
  },
  {
   "cell_type": "markdown",
   "metadata": {},
   "source": [
    "# docstring\n",
    "\n",
    "-   함수에 대한 설명\n",
    "-   함수의 구현부의 첫번째에 여러줄 문자열(\"\"\" ~ \"\"\")로 작성한다."
   ]
  },
  {
   "cell_type": "code",
   "execution_count": 26,
   "metadata": {
    "slideshow": {
     "slide_type": "fragment"
    }
   },
   "outputs": [
    {
     "data": {
      "text/plain": [
       "\u001b[31mSignature:\u001b[39m input(prompt=\u001b[33m''\u001b[39m)\n",
       "\u001b[31mDocstring:\u001b[39m\n",
       "Forward raw_input to frontends\n",
       "\n",
       "Raises\n",
       "------\n",
       "StdinNotImplementedError if active frontend doesn't support stdin.\n",
       "\u001b[31mFile:\u001b[39m      c:\\users\\playdata\\appdata\\local\\miniconda3\\lib\\site-packages\\ipykernel\\kernelbase.py\n",
       "\u001b[31mType:\u001b[39m      method"
      ]
     },
     "metadata": {},
     "output_type": "display_data"
    }
   ],
   "source": [
    "# help(input)\n",
    "?input"
   ]
  },
  {
   "cell_type": "code",
   "execution_count": 31,
   "metadata": {},
   "outputs": [],
   "source": [
    "age : int = 20\n",
    "\n",
    "age = \"스무살\"\n",
    "\n",
    "#python은 정적이 아닌 동적 타입이라 변수명 만들때가 아닌 뒤에 오는 값에 따라 type이 바뀜."
   ]
  },
  {
   "cell_type": "code",
   "execution_count": 33,
   "metadata": {},
   "outputs": [],
   "source": [
    "def greet(name : str, age : int = 0)-> str:    # hint지 규칙은 아니다.\n",
    "    \"\"\"\n",
    "    함수에 대한 설명\n",
    "    인삿말을 문자열로 만들어 주는 함수.\n",
    "\n",
    "    Args:   #파라미터에 대한 설명\n",
    "        name(str) : 인삿말에 들어갈 사람의 이름.\n",
    "        age(int) : name의 사람의 나이\n",
    "\n",
    "    Returns : #리턴값에 대한 설명\n",
    "        str : 이름과 나이가 들어간 인삿말      (타입: 설명)\n",
    "\n",
    "    Raises :     # 이 함수에서 발생 가능성있는 Error(Exception) 의 종류와 설명.\n",
    "    \n",
    "    \"\"\"\n",
    "    return f\"안녕하세요. {age}세의 {name}님\""
   ]
  },
  {
   "cell_type": "code",
   "execution_count": 34,
   "metadata": {},
   "outputs": [
    {
     "name": "stdout",
     "output_type": "stream",
     "text": [
      "Help on function greet in module __main__:\n",
      "\n",
      "greet(name: str, age: int = 0) -> str\n",
      "    함수에 대한 설명\n",
      "    인삿말을 문자열로 만들어 주는 함수.\n",
      "\n",
      "    Args:   #파라미터에 대한 설명\n",
      "        name(str) : 인삿말에 들어갈 사람의 이름.\n",
      "        age(int) : name의 사람의 나이\n",
      "\n",
      "    Returns : #리턴값에 대한 설명\n",
      "        str : 이름과 나이가 들어간 인삿말      (타입: 설명)\n",
      "\n",
      "    Raises :     # 이 함수에서 발생 가능성있는 Error(Exception) 의 종류와 설명.\n",
      "\n"
     ]
    }
   ],
   "source": [
    "help(greet)"
   ]
  },
  {
   "cell_type": "code",
   "execution_count": 35,
   "metadata": {},
   "outputs": [
    {
     "data": {
      "text/plain": [
       "\u001b[31mSignature:\u001b[39m greet(name: str, age: int = \u001b[32m0\u001b[39m) -> str\n",
       "\u001b[31mDocstring:\u001b[39m\n",
       "함수에 대한 설명\n",
       "인삿말을 문자열로 만들어 주는 함수.\n",
       "\n",
       "Args:   #파라미터에 대한 설명\n",
       "    name(str) : 인삿말에 들어갈 사람의 이름.\n",
       "    age(int) : name의 사람의 나이\n",
       "\n",
       "Returns : #리턴값에 대한 설명\n",
       "    str : 이름과 나이가 들어간 인삿말      (타입: 설명)\n",
       "\n",
       "Raises :     # 이 함수에서 발생 가능성있는 Error(Exception) 의 종류와 설명.\n",
       "\u001b[31mFile:\u001b[39m      c:\\users\\playdata\\appdata\\local\\temp\\ipykernel_10460\\2130224948.py\n",
       "\u001b[31mType:\u001b[39m      function"
      ]
     },
     "metadata": {},
     "output_type": "display_data"
    }
   ],
   "source": [
    "?greet"
   ]
  },
  {
   "cell_type": "markdown",
   "metadata": {
    "slideshow": {
     "slide_type": "skip"
    }
   },
   "source": [
    "# TODO\n"
   ]
  },
  {
   "cell_type": "code",
   "execution_count": 7,
   "metadata": {
    "slideshow": {
     "slide_type": "skip"
    }
   },
   "outputs": [
    {
     "data": {
      "text/plain": [
       "5050"
      ]
     },
     "execution_count": 7,
     "metadata": {},
     "output_type": "execute_result"
    }
   ],
   "source": [
    "# 1. 시작 정수, 끝 정수를 받아 그 사이의 모든 정수의 합을 구해서 반환하는 함수를 구현(ex: 1, 20 => 1에서 20 사이의 모든 정수의 합계)\n",
    "# start = int(input(\"첫 숫자:\"))\n",
    "# end = int(input(\"마지막 숫자:\"))\n",
    "# def sum_between(start, end):\n",
    "#     return sum(range(start, end+1))\n",
    "# print(sum_between(start, end))\n",
    "\n",
    "\n",
    "def accumulate(start : int, end : int) -> int:\n",
    "    \"\"\"\n",
    "    파라미터로 받은 정수 범위의 합계를 계산해서 반환.\n",
    "    Args:\n",
    "        start(int) - 범위의 시작 정수\n",
    "        end(int) - 범위의 끝 정수. 계산시 포함해서 합계를 구할 때 포함된다.\n",
    "    Returns:\n",
    "        int - start ~ end 사이의 정수의 합계.\n",
    "    \"\"\"\n",
    "    result = 0 #누적합계를 저장할 변수\n",
    "    for v in range(start, end + 1):\n",
    "        result += v\n",
    "    return result\n",
    "accumulate(1, 100)"
   ]
  },
  {
   "cell_type": "code",
   "execution_count": 9,
   "metadata": {},
   "outputs": [
    {
     "data": {
      "text/plain": [
       "\u001b[31mSignature:\u001b[39m accumulate(start: int, end: int) -> int\n",
       "\u001b[31mDocstring:\u001b[39m\n",
       "파라미터로 받은 정수 범위의 합계를 계산해서 반환.\n",
       "Args:\n",
       "    start(int) - 범위의 시작 정수\n",
       "    end(int) - 범위의 끝 정수. 계산시 포함해서 합계를 구할 때 포함된다.\n",
       "Returns:\n",
       "    int - start ~ end 사이의 정수의 합계.\n",
       "\u001b[31mFile:\u001b[39m      c:\\users\\playdata\\appdata\\local\\temp\\ipykernel_14988\\3119337420.py\n",
       "\u001b[31mType:\u001b[39m      function"
      ]
     },
     "metadata": {},
     "output_type": "display_data"
    }
   ],
   "source": [
    "# help(accumulate)\n",
    "accumulate?"
   ]
  },
  {
   "cell_type": "code",
   "execution_count": 15,
   "metadata": {
    "slideshow": {
     "slide_type": "skip"
    }
   },
   "outputs": [
    {
     "data": {
      "text/plain": [
       "465"
      ]
     },
     "execution_count": 15,
     "metadata": {},
     "output_type": "execute_result"
    }
   ],
   "source": [
    "# 2. 2번 문제에서 시작을 받지 않은 경우 0을, 끝 정수를 받지 않으면 10이 들어가도록 구현을 변경\n",
    "# start = int(input(\"첫 숫자:\"))\n",
    "# end = int(input(\"마지막 숫자:\"))\n",
    "# def sum_between2(start = 0, end = 10):\n",
    "#     return sum(range(start, end+1))\n",
    "# print(sum_between2(start, end))\n",
    "\n",
    "def accumulate2(start : int = 0, end : int = 10) -> int:\n",
    "    return sum(range(start, end + 1))\n",
    "\n",
    "accumulate2(1, 100)\n",
    "accumulate2() # 0~ 10\n",
    "accumulate2(end = 30)"
   ]
  },
  {
   "cell_type": "code",
   "execution_count": 17,
   "metadata": {
    "slideshow": {
     "slide_type": "skip"
    }
   },
   "outputs": [
    {
     "name": "stdout",
     "output_type": "stream",
     "text": [
      "7 X 1 = 7\n",
      "7 X 2 = 14\n",
      "7 X 3 = 21\n",
      "7 X 4 = 28\n",
      "7 X 5 = 35\n",
      "7 X 6 = 42\n",
      "7 X 7 = 49\n",
      "7 X 8 = 56\n",
      "7 X 9 = 63\n",
      "3 X 1 = 3\n",
      "3 X 2 = 6\n",
      "3 X 3 = 9\n",
      "3 X 4 = 12\n",
      "3 X 5 = 15\n",
      "3 X 6 = 18\n",
      "3 X 7 = 21\n",
      "3 X 8 = 24\n",
      "3 X 9 = 27\n"
     ]
    }
   ],
   "source": [
    "# 3. 구구단을 출력하는 함수를 구현한다. 입력으로 출력하고 싶은 단을 parameter로 입력받아서 `N * 1` ~ `N * 9` 를 출력한다. (N: 입력받은 단)\n",
    "\n",
    "# def mult(N):\n",
    "#     for i in range(1, 10):\n",
    "#         print(f\"{N} * {i} = {N * i}\")\n",
    "# mult(8)\n",
    "\n",
    "def gugudan(dan : int):\n",
    "    for i in range(1, 10):\n",
    "        print(f\"{dan} X {i} = {dan * i}\")\n",
    "gugudan(7)\n",
    "gugudan(3) # 출력하는거 다 나옴"
   ]
  },
  {
   "cell_type": "code",
   "execution_count": 26,
   "metadata": {
    "slideshow": {
     "slide_type": "skip"
    }
   },
   "outputs": [],
   "source": [
    "# 4. 체질량 지수는 비만도를 나타내는 지수로 키가 a미터 이고 몸무게가 b kg일때 b/(a**2) 로 구한다.\n",
    "# 체질량 지수가\n",
    "# - 18.5 미만이면 저체중\n",
    "# - 18.5이상 25미만이면 정상\n",
    "# - 25이상이면 과체중\n",
    "# - 30이상이면 비만으로 하는데\n",
    "# 몸무게와 키를 매개변수로 받아 비만인지 과체중인지 반환하는 함수를 구현하시오.\n",
    "\n",
    "# height = float(input(\"키:\"))\n",
    "# weight = float(input(\"몸무게:\"))\n",
    "# def bmi(height, weight):\n",
    "#     return (weight / (height ** 2))\n",
    "# if bmi(height, weight) < 18.5:\n",
    "#     print(\"저체중\")\n",
    "# elif 18.5 <= bmi(height, weight) < 25:\n",
    "#     print(\"정상\")\n",
    "# elif 25 <= bmi(height, weight) < 30:\n",
    "#     print(\"과체중\")\n",
    "# else:\n",
    "#     print(\"비만\")\n",
    "\n",
    "def check_bmi(height : float, weight : float) -> str:\n",
    "    \"\"\"\n",
    "    BMI 지수를 계산해서 비만도를 알려주는 함수.\n",
    "    Args:\n",
    "        height(float) - 키. 단위는 미터\n",
    "        weight(float) - 몸무게. 단위는 kg.\n",
    "    Returns:\n",
    "        str - 비만도(저체중, 정상, 과체중, 비만) 계산 결과.\n",
    "    \"\"\"\n",
    "    bmi = weight / height ** 2\n",
    "    if bmi < 18.5:\n",
    "        return \"저체중\", round(bmi, 2) #tuple 생략    #반올림(반올림할 값, 자릿수)\n",
    "    elif bmi < 25:\n",
    "        return \"정상\", round(bmi, 2) #tuple 생략      #반올림(반올림할 값, 자릿수)\n",
    "    elif bmi < 30:\n",
    "        return \"과체중\", round(bmi, 2) #tuple 생략    #반올림(반올림할 값, 자릿수)\n",
    "    else:\n",
    "        return \"비만\", round(bmi, 2) #tuple 생략     #반올림(반올림할 값, 자릿수)"
   ]
  },
  {
   "cell_type": "code",
   "execution_count": 27,
   "metadata": {},
   "outputs": [
    {
     "data": {
      "text/plain": [
       "('비만', 34.6)"
      ]
     },
     "execution_count": 27,
     "metadata": {},
     "output_type": "execute_result"
    }
   ],
   "source": [
    "check_bmi(1.7, 100)"
   ]
  },
  {
   "cell_type": "code",
   "execution_count": 31,
   "metadata": {},
   "outputs": [
    {
     "data": {
      "text/plain": [
       "['안녕', 'zcd', 'rsccse', 'bbb', 'adalkfdslksdja', 'adafdssd', 'aaaaa']"
      ]
     },
     "execution_count": 31,
     "metadata": {},
     "output_type": "execute_result"
    }
   ],
   "source": [
    "lst = [\"aaaaa\", \"bbb\", \"adafdssd\", \"안녕\", \"adalkfdslksdja\", \"zcd\", \"rsccse\"]\n",
    "# 정렬\n",
    "sorted(lst)\n",
    "sorted(lst, reverse = True)"
   ]
  },
  {
   "cell_type": "code",
   "execution_count": null,
   "metadata": {},
   "outputs": [],
   "source": [
    "#문자열 정렬 순서 (오름차순기준) - 유니코드 기준\n",
    "#특수문자 < 숫자 < 알파벳대문자 < 소문자 < 한글"
   ]
  },
  {
   "cell_type": "code",
   "execution_count": 40,
   "metadata": {},
   "outputs": [
    {
     "data": {
      "text/plain": [
       "['안녕', 'bbb', 'zcd', 'aaaaa', 'rsccse', 'adafdssd', 'adalkfdslksdja']"
      ]
     },
     "execution_count": 40,
     "metadata": {},
     "output_type": "execute_result"
    }
   ],
   "source": [
    "def check(word):\n",
    "    return len(word)\n",
    "sorted(lst, key = check)"
   ]
  },
  {
   "cell_type": "code",
   "execution_count": 37,
   "metadata": {},
   "outputs": [
    {
     "data": {
      "text/plain": [
       "[2, 3, 3, 5, 6, 8, 14]"
      ]
     },
     "execution_count": 37,
     "metadata": {},
     "output_type": "execute_result"
    }
   ],
   "source": [
    "sorted([check(v) for v in lst])"
   ]
  },
  {
   "cell_type": "code",
   "execution_count": 44,
   "metadata": {},
   "outputs": [
    {
     "data": {
      "text/plain": [
       "['adalkfdslksdja', 'adafdssd', 'rsccse', 'aaaaa', 'bbb', 'zcd', '안녕']"
      ]
     },
     "execution_count": 44,
     "metadata": {},
     "output_type": "execute_result"
    }
   ],
   "source": [
    "def check(word):\n",
    "    return len(word)\n",
    "sorted(lst, key = check, reverse = True)"
   ]
  },
  {
   "cell_type": "code",
   "execution_count": 46,
   "metadata": {},
   "outputs": [
    {
     "data": {
      "text/plain": [
       "['안녕', 'bbb', 'zcd', 'aaaaa', 'rsccse', 'adafdssd', 'adalkfdslksdja']"
      ]
     },
     "execution_count": 46,
     "metadata": {},
     "output_type": "execute_result"
    }
   ],
   "source": [
    "# lst.sort(key = check)\n",
    "lst.sort(key = lambda word : len(word))\n",
    "# lst.sort(key = len)\n",
    "lst"
   ]
  }
 ],
 "metadata": {
  "kernelspec": {
   "display_name": "Python 3 (ipykernel)",
   "language": "python",
   "name": "python3"
  },
  "language_info": {
   "codemirror_mode": {
    "name": "ipython",
    "version": 3
   },
   "file_extension": ".py",
   "mimetype": "text/x-python",
   "name": "python",
   "nbconvert_exporter": "python",
   "pygments_lexer": "ipython3",
   "version": "3.12.3"
  },
  "toc": {
   "base_numbering": 1,
   "nav_menu": {},
   "number_sections": true,
   "sideBar": true,
   "skip_h1_title": false,
   "title_cell": "Table of Contents",
   "title_sidebar": "Contents",
   "toc_cell": false,
   "toc_position": {},
   "toc_section_display": true,
   "toc_window_display": false
  },
  "varInspector": {
   "cols": {
    "lenName": 16,
    "lenType": 16,
    "lenVar": 40
   },
   "kernels_config": {
    "python": {
     "delete_cmd_postfix": "",
     "delete_cmd_prefix": "del ",
     "library": "var_list.py",
     "varRefreshCmd": "print(var_dic_list())"
    },
    "r": {
     "delete_cmd_postfix": ") ",
     "delete_cmd_prefix": "rm(",
     "library": "var_list.r",
     "varRefreshCmd": "cat(var_dic_list()) "
    }
   },
   "types_to_exclude": [
    "module",
    "function",
    "builtin_function_or_method",
    "instance",
    "_Feature"
   ],
   "window_display": false
  }
 },
 "nbformat": 4,
 "nbformat_minor": 4
}
