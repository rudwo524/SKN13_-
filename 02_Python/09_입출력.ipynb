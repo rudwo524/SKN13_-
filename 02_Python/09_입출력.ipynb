{
 "cells": [
  {
   "cell_type": "markdown",
   "metadata": {
    "slideshow": {
     "slide_type": "slide"
    }
   },
   "source": [
    "# Path (경로)\n",
    "\n",
    "- **경로(Path)**\n",
    "    - 프로그램에서 사용할 **자원의 위치를 path(경로)** 라고 한다.\n",
    "    - **파일 시스템**에서는 파일이나 디렉토리가 있는 위치의 경로를 말한다.\n",
    "    "
   ]
  },
  {
   "cell_type": "markdown",
   "metadata": {
    "slideshow": {
     "slide_type": "slide"
    }
   },
   "source": [
    "- **절대경로**\n",
    "    - 자원의 전체 경로를 표현하는 방식\n",
    "    - 시작 경로부터 자원(파일, 디렉토리)이 있는 위치까지 표현한다.\n",
    "        - 시작 경로: Root Path\n",
    "            - windows: `c:`, `d:`\n",
    "            - Unix, Linux: `/`"
   ]
  },
  {
   "cell_type": "markdown",
   "metadata": {
    "slideshow": {
     "slide_type": "fragment"
    }
   },
   "source": [
    "- **상대경로**\n",
    "    - 현재 작업 경로(위치)에서 부터 자원이 있는 위치까지 표현한다.\n",
    "        - 시작 경로: 현재 작업경로\n",
    "    - 구문\n",
    "        - `.` : 현재 디렉토리\n",
    "        - `..`: 상위 디렉토리\n",
    "        - `/` : 경로 구분자,  상위경로/하위경로"
   ]
  },
  {
   "cell_type": "markdown",
   "metadata": {
    "slideshow": {
     "slide_type": "fragment"
    }
   },
   "source": [
    "- 운영체제(O/S)별 경로구분자\n",
    "    - 윈도우즈: `\\` (역슬래쉬)\n",
    "    - 리눅스/유닉스: `/` (슬래쉬)"
   ]
  },
  {
   "cell_type": "code",
   "execution_count": 2,
   "metadata": {
    "slideshow": {
     "slide_type": "fragment"
    }
   },
   "outputs": [
    {
     "data": {
      "text/plain": [
       "'C:\\\\Users\\\\Playdata\\\\Downloads\\\\SKN13_KyungJae\\\\02_Python'"
      ]
     },
     "execution_count": 2,
     "metadata": {},
     "output_type": "execute_result"
    }
   ],
   "source": [
    "# 현재 디렉토리(working directory) 확인 -> 프로그램을 실행시킨 디렉토리.\n",
    "import os\n",
    "os.getcwd() #current working directory"
   ]
  },
  {
   "cell_type": "code",
   "execution_count": 3,
   "metadata": {},
   "outputs": [],
   "source": [
    "# working directory를 변경.\n",
    "os.chdir(\"mypackage/\")"
   ]
  },
  {
   "cell_type": "code",
   "execution_count": 5,
   "metadata": {},
   "outputs": [
    {
     "data": {
      "text/plain": [
       "'C:\\\\Users\\\\Playdata\\\\Downloads\\\\SKN13_KyungJae\\\\02_Python\\\\mypackage'"
      ]
     },
     "execution_count": 5,
     "metadata": {},
     "output_type": "execute_result"
    }
   ],
   "source": [
    "os.getcwd()"
   ]
  },
  {
   "cell_type": "code",
   "execution_count": 6,
   "metadata": {},
   "outputs": [
    {
     "name": "stdout",
     "output_type": "stream",
     "text": [
      "C:\\Users\\Playdata\\Downloads\\SKN13_KyungJae\\02_Python\n"
     ]
    }
   ],
   "source": [
    "cd .."
   ]
  },
  {
   "cell_type": "code",
   "execution_count": 7,
   "metadata": {},
   "outputs": [
    {
     "name": "stdout",
     "output_type": "stream",
     "text": [
      "C:\\Users\\Playdata\n"
     ]
    }
   ],
   "source": [
    "cd ../../.."
   ]
  },
  {
   "cell_type": "code",
   "execution_count": 8,
   "metadata": {},
   "outputs": [
    {
     "name": "stdout",
     "output_type": "stream",
     "text": [
      "C:\\Users\\Playdata\\Downloads\\SKN13_KyungJae\\02_Python\n"
     ]
    }
   ],
   "source": [
    "cd Downloads/SKN13_KyungJae/02_Python/ "
   ]
  },
  {
   "cell_type": "code",
   "execution_count": 9,
   "metadata": {},
   "outputs": [
    {
     "name": "stdout",
     "output_type": "stream",
     "text": [
      " C 드라이브의 볼륨에는 이름이 없습니다.\n",
      " 볼륨 일련 번호: 382E-C517\n",
      "\n",
      " C:\\Users\\Playdata\\Downloads\\SKN13_KyungJae\\02_Python 디렉터리\n",
      "\n",
      "2025-04-02  오전 10:46    <DIR>          .\n",
      "2025-04-02  오전 10:26    <DIR>          ..\n",
      "2025-04-01  오후 12:37    <DIR>          .ipynb_checkpoints\n",
      "2025-03-25  오전 09:18            10,890 01_개요.ipynb\n",
      "2025-03-28  오후 05:48            65,242 02_변수와 데이터타입.ipynb\n",
      "2025-03-28  오전 10:02            89,841 03_자료구조.ipynb\n",
      "2025-03-28  오전 10:44            54,653 04_제어문_컴프리헨션.ipynb\n",
      "2025-03-31  오전 10:21            53,360 05_함수.ipynb\n",
      "2025-03-31  오후 05:19            51,033 06_객체지향프로그래밍.ipynb\n",
      "2025-04-02  오전 09:26            30,406 07_패키지_모듈_import.ipynb\n",
      "2025-04-02  오전 10:21            18,865 08_예외처리 (Exception Handling).ipynb\n",
      "2025-04-02  오전 10:46            13,062 09_입출력.ipynb\n",
      "2025-03-24  오후 05:04    <DIR>          images\n",
      "2025-04-01  오후 12:44    <DIR>          mypackage\n",
      "2025-03-25  오전 09:50                62 python_script.py\n",
      "2025-03-24  오후 04:35             1,513 test.ipynb\n",
      "              11개 파일             388,927 바이트\n",
      "               5개 디렉터리  447,339,798,528 바이트 남음\n"
     ]
    }
   ],
   "source": [
    "ls"
   ]
  },
  {
   "cell_type": "code",
   "execution_count": 10,
   "metadata": {},
   "outputs": [],
   "source": [
    "mkdir mydir"
   ]
  },
  {
   "cell_type": "code",
   "execution_count": 14,
   "metadata": {},
   "outputs": [],
   "source": [
    "os.mkdir(\"new_dir\")"
   ]
  },
  {
   "cell_type": "code",
   "execution_count": 15,
   "metadata": {},
   "outputs": [],
   "source": [
    "os.rmdir(\"new_dir/\")"
   ]
  },
  {
   "cell_type": "markdown",
   "metadata": {
    "slideshow": {
     "slide_type": "slide"
    }
   },
   "source": [
    "# 입출력 (IO)\n",
    "\n",
    "## 입출력이란\n",
    "- 프로그램이 사용하려는 외부 자원을 연결하여 데이터를 입력 받거나 출력하는 작업을 IO라고 한다.\n",
    "- 외부 자원\n",
    "    - 파일, 원격지 컴퓨터(Network으로 연결된 컴퓨터의 자원), 데이터베이스 등.\n",
    "- **Stream**\n",
    "    - 입출력 시 **데이터의 흐름을 stream** 이라고 한다.\n",
    "- InputStream \n",
    "    - Program이 외부로 부터 데이터를 읽어 들이는 흐름.\n",
    "- OutputStream \n",
    "    - Program이 외부로 데이터를 써주는 흐름.\n",
    "\n",
    "\n",
    "![io](images/ch09_01.png)"
   ]
  },
  {
   "cell_type": "markdown",
   "metadata": {
    "slideshow": {
     "slide_type": "subslide"
    }
   },
   "source": [
    "## IO 코딩 순서\n",
    "![순서](images/ch09_02.png)"
   ]
  },
  {
   "cell_type": "markdown",
   "metadata": {
    "slideshow": {
     "slide_type": "subslide"
    }
   },
   "source": [
    "### 파일 열기(연결)\n",
    "- open() 함수 사용\n",
    "    - 연결된 파일과 입출력 메소드를 제공하는 객체(Stream)를 리턴\n",
    "- 구문\n",
    "    - `open(file, mode='r', encoding=None)`\n",
    "    - 함수 주요 매개변수\n",
    "        - file : 연결할 파일 경로\n",
    "        - mode : 열기 모드\n",
    "            - mode는 목적, 데이터종류를 조합한 문자열을 사용한다.\n",
    "        - encoding \n",
    "            - 입출력 대상이 **텍스트 파일일 경우** 인코딩 방식 설정\n",
    "            - 생략하면  **os 기본 encoding방식을 따른다.**\n",
    "                - Windows: cp949/euckr\n",
    "                - Linux, Unix: utf-8\n",
    "|mode타입|mode문자|설명|\n",
    "|:-|-|-|\n",
    "|목적|r|읽기 모드-목적의 기본 모드|\n",
    "||w|새로 쓰기 모드|\n",
    "||a|이어 쓰기 모드|\n",
    "||x|새로 쓰기모드-연결하려는 파일이 있으면 Exception발생|\n",
    "|데이터종류|b|binary 모드|\n",
    "||t|Text모드-text데이터 입출력시 사용|\n",
    "    "
   ]
  },
  {
   "cell_type": "markdown",
   "metadata": {
    "slideshow": {
     "slide_type": "subslide"
    }
   },
   "source": [
    "### 출력 메소드\n",
    "\n",
    "- write(출력할 Data)\n",
    "    - 연결된 파일에 `출력할 Data` 출력한다.\n",
    "- writelines(문자열을 가진 컬렉션)\n",
    "    - 리스트, 튜플, 집합이 원소로 가진 문자열들을 한번에 출력한다.\n",
    "    - text 출력일 경우에만 사용가능.\n",
    "    - 원소에 문자열 이외의 타입의 값이 있을 경우 TypeError 발생"
   ]
  },
  {
   "cell_type": "code",
   "execution_count": null,
   "metadata": {
    "slideshow": {
     "slide_type": "fragment"
    }
   },
   "outputs": [],
   "source": []
  },
  {
   "cell_type": "markdown",
   "metadata": {
    "slideshow": {
     "slide_type": "slide"
    }
   },
   "source": [
    "### 입력 메소드\n",
    "- read() : 문자열(text mode), bytes(binary mode) \n",
    "    - 연결된 파일의 내용을 한번에 모두 읽어 들인다.\n",
    "- readline() : 문자열(text mode), bytes(binary mode)\n",
    "    - 한 줄만 읽는다.\n",
    "    - text 입력일 경우만 사용가능\n",
    "    - 읽은 라인이 없으면 **빈문자열**을 리턴한다.\n",
    "- readlines() : 리스트\n",
    "    - 한번에 다 읽은 뒤 각각의 라인을 리스트에 원소로 담아 반환한다.\n",
    "- Text Input Stream (TextIOWrapper, BufferedReader)은 Iterable 타입.\n",
    "    - for문을 이용한 라인단위 순차 조회할 수 있다."
   ]
  },
  {
   "cell_type": "code",
   "execution_count": 43,
   "metadata": {
    "slideshow": {
     "slide_type": "fragment"
    }
   },
   "outputs": [
    {
     "name": "stdout",
     "output_type": "stream",
     "text": [
      "<class '_io.TextIOWrapper'>\n"
     ]
    }
   ],
   "source": [
    "# a.txt 파일에 문자열을 출력하는 코드.\n",
    "# 1. 연결\n",
    "fw = open(\"./a.txt\", \"wt\", encoding = \"UTF-8\") # t 생략가능\n",
    "#fw = open(\"./a.txt\", \"at\", encoding = \"UTF-8\") # t 생략가능\n",
    "#fw = open(\"./a.txt\", \"xt\", encoding = \"UTF-8\") # t 생략가능\n",
    "print(type(fw))\n",
    "#2. 출력(쓰기)\n",
    "fw.write(\"안녕하세요\\n\")\n",
    "fw.write(\"Hello World!\")\n",
    "#3. 연결 닫기\n",
    "fw.close()"
   ]
  },
  {
   "cell_type": "code",
   "execution_count": 45,
   "metadata": {},
   "outputs": [],
   "source": [
    "text_list = [\"안녕하세요.\\n\", \"반갑습니다.\\n\", \"날씨가 좋아요.\\n\"]\n",
    "fw2 = open(r\"C:\\Users\\Playdata\\Downloads\\temp\\b.txt\", \"wt\", encoding ='utf-8') #연결\n",
    "# for txt in text_list:  #쓰기\n",
    "#     fw2.write(txt)\n",
    "fw2.writelines(text_list)\n",
    "fw2.close()  #연결 닫기"
   ]
  },
  {
   "cell_type": "code",
   "execution_count": 49,
   "metadata": {},
   "outputs": [],
   "source": [
    "# a.txt의 내용을 읽기\n",
    "fr = open(\"./a.txt\",\"rt\", encoding = \"utf-8\")  #연결 - encoding: utf-8, cp949    #rt 생략가능\n",
    "txt = fr.read()\n",
    "fr.read()\n",
    "fr.close() #연결 닫기"
   ]
  },
  {
   "cell_type": "code",
   "execution_count": 51,
   "metadata": {},
   "outputs": [
    {
     "name": "stdout",
     "output_type": "stream",
     "text": [
      "안녕하세요\n",
      "Hello World!\n"
     ]
    }
   ],
   "source": [
    "print(txt)"
   ]
  },
  {
   "cell_type": "code",
   "execution_count": 58,
   "metadata": {},
   "outputs": [
    {
     "name": "stdout",
     "output_type": "stream",
     "text": [
      "['안녕하세요.\\n', '반갑습니다.\\n', '날씨가 좋아요.\\n']\n"
     ]
    }
   ],
   "source": [
    "fr2 = open(r\"C:\\Users\\Playdata\\Downloads\\temp\\b.txt\", mode = 'rt', encoding = \"utf-8\")\n",
    "\n",
    "#txt = fr2.read() #한번에 다 읽기\n",
    "txt = fr2.readlines() #한번에 다 읽기 -> 라인단위로 끊어서 list에 담아 반환\n",
    "print(txt)\n",
    "\n",
    "fr2.close()"
   ]
  },
  {
   "cell_type": "code",
   "execution_count": 59,
   "metadata": {},
   "outputs": [
    {
     "name": "stdout",
     "output_type": "stream",
     "text": [
      "안녕하세요.\n",
      "\n",
      "반갑습니다.\n",
      "\n",
      "날씨가 좋아요.\n",
      "\n",
      "\n"
     ]
    }
   ],
   "source": [
    "fr3 = open(r\"C:\\Users\\Playdata\\Downloads\\temp\\b.txt\", mode = 'rt', encoding = \"utf-8\")\n",
    "\n",
    "print(fr3.readline()) #한줄 read\n",
    "print(fr3.readline()) # (다음) 한줄을 read\n",
    "print(fr3.readline()) # (다음) 한줄을 read\n",
    "print(fr3.readline()) # (다음) 한줄을 read ->읽을 것이 없으면 (EOF-End Of File) None 반환.\n",
    "fr3.close()"
   ]
  },
  {
   "cell_type": "code",
   "execution_count": 61,
   "metadata": {},
   "outputs": [
    {
     "name": "stdout",
     "output_type": "stream",
     "text": [
      "1 안녕하세요.\n",
      "2 반갑습니다.\n",
      "3 날씨가 좋아요.\n"
     ]
    }
   ],
   "source": [
    "fr4 = open(r\"C:\\Users\\Playdata\\Downloads\\temp\\b.txt\", mode = 'rt', encoding = \"utf-8\")\n",
    "\n",
    "for num, line in enumerate(fr4, start = 1):\n",
    "    print(num, line.strip())\n",
    "\n",
    "fr4.close()"
   ]
  },
  {
   "cell_type": "code",
   "execution_count": 65,
   "metadata": {},
   "outputs": [
    {
     "name": "stdout",
     "output_type": "stream",
     "text": [
      "안녕하세요\n",
      "Hello World!\n",
      "종료\n"
     ]
    }
   ],
   "source": [
    "#with block를 이용할 수 있는 객체를 context manager라고 한다.\n",
    "with open(\"./a.txt\", \"rt\", encoding = \"utf-8\") as fr:\n",
    "    txt = fr.read()\n",
    "    print(txt)\n",
    "#with block이 끝나면 io.close() 가 자동으로 실행된다.\n",
    "print(\"종료\")"
   ]
  },
  {
   "cell_type": "markdown",
   "metadata": {
    "slideshow": {
     "slide_type": "slide"
    }
   },
   "source": [
    "## with block\n",
    "\n",
    "파일과 입출력 작업이 다 끝나면 반드시 연결을 닫아야 한다. 매번 연결을 닫는 작업을 하는 것이 번거롭고 실수로 안 닫을 경우 문제가 생길 수 있다. **with block은 block을 벗어나면 자동으로 연결을 닫아 준다.** 그래서 연결을 닫는 코드를 생략할 수 있다.\n",
    "\n",
    "- 구문\n",
    "```python\n",
    "with open() as 변수: # `변수`는 open()이 반환하는 Stream객체를 참조한다.\n",
    "    입출력 작업      # 변수를 이용해 입출력 작업을 처리한다.\n",
    "# with block을 빠져 나오면 close()가 자동으로 실행된다.\n",
    "```"
   ]
  },
  {
   "cell_type": "markdown",
   "metadata": {},
   "source": [
    "# Binary Data 입출력\n",
    "\n",
    "## `bytes` type\n",
    "binary 데이터를 입출력하기 위한 타입.  \n",
    "파이썬의 하나의 출력함수로 다양한 데이터타입의 값을 출력하기 위해 **bytes 타입으로 변환** 해야 한다. \n",
    "또 binary 데이터를 읽을 경우 **bytes 타입**으로 반환한다. 이것을 저장 전 원래 타입으로 쓰기 위해서는 bytes에서 원래 타입으로 변환하는 작업이 필요하다.   "
   ]
  },
  {
   "cell_type": "markdown",
   "metadata": {
    "slideshow": {
     "slide_type": "slide"
    }
   },
   "source": [
    "## pickle 모듈을 이용한 객체 직렬화\n",
    "- pickle 모듈: binary data 입출력을 도와주는 표준 라이브러리.\n",
    "\n",
    "### 객체 직렬화(Object Serialization)\n",
    "- 객체의 속성값들을 bytes로 변환해 출력하는 것을 객체 직렬화(Object Serialization) 이라고 한다.\n",
    "- bytes로 출력된 데이터를 읽어 객체화 하는 것을 객체 역직렬화(Object Deserialization) 이라고 한다."
   ]
  },
  {
   "cell_type": "markdown",
   "metadata": {
    "slideshow": {
     "slide_type": "fragment"
    }
   },
   "source": [
    "### pickle 모듈\n",
    "- binary 모드로 출력하거나 입력받을 경우 **bytes**  타입으로 입출력을 진행한다.\n",
    "    - 그런데 각각의 타입이 변환하는 방식이 다르기때문에 입출력 코드가 복잡해 지는 문제가 있다. 이것을 추상화해서 binary 데이터 입출력을 쉽게 처리할 수 있게하는 표준모듈이 pickle이다.\n",
    "    - 파이썬의 모든 값은 객체 이므로 pickle은 객체 직렬화, 역직렬화를 위한 파이썬 표준모듈이다.\n",
    "\n",
    "- 저장시 파일 확장자는 보통 `pkl` 이나 `pickle` 로 한다.\n",
    "- ex)\n",
    "```python\n",
    "#### binary mode로 설정한다.\n",
    "fw = open(\"data.pkl\", \"wb\") # 객체를 pickle에 저장하기 위한 output stream 생성\n",
    "fr = open(\"data.pkl\", \"rb\") # 파일에 저장된 객체를 읽어오기 위한 input stream 생성\n",
    "```\n",
    "- **메소드**\n",
    "    - dump(저장할 객체, fw) : 출력\n",
    "    - load(fr): 입력 - 읽은 객체를 반환한다."
   ]
  },
  {
   "cell_type": "code",
   "execution_count": 70,
   "metadata": {
    "slideshow": {
     "slide_type": "fragment"
    }
   },
   "outputs": [],
   "source": [
    "import pickle\n",
    "\n",
    "num = 10  #int\n",
    "with open(\"int_data.pickle\", \"wb\") as fo:\n",
    "    #피클로 저장(출력) -> dump(값, 출력stream)\n",
    "    pickle.dump(num, fo)\n",
    "    # num(int) -> bytes 변환 -> fo.write(byte)"
   ]
  },
  {
   "cell_type": "code",
   "execution_count": 71,
   "metadata": {},
   "outputs": [
    {
     "data": {
      "text/plain": [
       "\u001b[31mSignature:\u001b[39m fo.write(buffer, /)\n",
       "\u001b[31mDocstring:\u001b[39m\n",
       "Write buffer b to the IO stream.\n",
       "\n",
       "Return the number of bytes written, which is always\n",
       "the length of b in bytes.\n",
       "\n",
       "Raise BlockingIOError if the buffer is full and the\n",
       "underlying raw stream cannot accept more data at the moment.\n",
       "\u001b[31mType:\u001b[39m      builtin_function_or_method"
      ]
     },
     "metadata": {},
     "output_type": "display_data"
    }
   ],
   "source": [
    "fo.write?"
   ]
  },
  {
   "cell_type": "code",
   "execution_count": 73,
   "metadata": {},
   "outputs": [],
   "source": [
    "# 읽기\n",
    "import pickle\n",
    "with open(\"int_data.pickle\", \"rb\") as fi:\n",
    "    result = pickle.load(fi) #읽기 -> load(입력 stream)\n",
    "    # fi.read(): 반환 - bytes"
   ]
  },
  {
   "cell_type": "code",
   "execution_count": 74,
   "metadata": {},
   "outputs": [
    {
     "data": {
      "text/plain": [
       "(int, 10)"
      ]
     },
     "execution_count": 74,
     "metadata": {},
     "output_type": "execute_result"
    }
   ],
   "source": [
    "type(result), result"
   ]
  },
  {
   "cell_type": "code",
   "execution_count": null,
   "metadata": {},
   "outputs": [],
   "source": [
    "d = {\n",
    "    \"이름\" : \"홍길동\",\n",
    "    \"나이\" : 40,\n",
    "    \"주소\" : \"서울\",\n",
    "    \"취미\" : [\"게임\", \"운동\"],\n",
    "    \"특기\" : (\"발표\", \"글쓰기\"),\n",
    "    \"결혼여부\" : True\n",
    "}"
   ]
  },
  {
   "cell_type": "code",
   "execution_count": 85,
   "metadata": {},
   "outputs": [
    {
     "name": "stdout",
     "output_type": "stream",
     "text": [
      "이름: 이순신, 나이: 20\n"
     ]
    }
   ],
   "source": [
    "class Person:\n",
    "\n",
    "    def __init__(self, name, age):\n",
    "        self.name = name\n",
    "        self.age = age\n",
    "\n",
    "    def __str__(self):\n",
    "        return f\"이름: {self.name}, 나이: {self.age}\"\n",
    "\n",
    "d = Person(\"이순신\", 20)\n",
    "print(d)"
   ]
  },
  {
   "cell_type": "code",
   "execution_count": 92,
   "metadata": {},
   "outputs": [],
   "source": [
    "with open(\"info.pickle\", \"wb\") as fo:\n",
    "    pickle.dump(d, fo)"
   ]
  },
  {
   "cell_type": "code",
   "execution_count": 93,
   "metadata": {},
   "outputs": [
    {
     "name": "stdout",
     "output_type": "stream",
     "text": [
      "<class '__main__.Person'>\n"
     ]
    }
   ],
   "source": [
    "with open(\"info.pickle\", \"rb\") as fi:\n",
    "    saved_info = pickle.load(fi)\n",
    "    print(type(saved_info))"
   ]
  },
  {
   "cell_type": "code",
   "execution_count": 94,
   "metadata": {},
   "outputs": [
    {
     "name": "stdout",
     "output_type": "stream",
     "text": [
      "이름: 이순신, 나이: 20\n"
     ]
    },
    {
     "data": {
      "text/plain": [
       "('이순신', 20)"
      ]
     },
     "execution_count": 94,
     "metadata": {},
     "output_type": "execute_result"
    }
   ],
   "source": [
    "print(saved_info)\n",
    "saved_info.name, saved_info.age"
   ]
  },
  {
   "cell_type": "code",
   "execution_count": 95,
   "metadata": {},
   "outputs": [
    {
     "ename": "TypeError",
     "evalue": "'Person' object is not subscriptable",
     "output_type": "error",
     "traceback": [
      "\u001b[31m---------------------------------------------------------------------------\u001b[39m",
      "\u001b[31mTypeError\u001b[39m                                 Traceback (most recent call last)",
      "\u001b[36mCell\u001b[39m\u001b[36m \u001b[39m\u001b[32mIn[95]\u001b[39m\u001b[32m, line 1\u001b[39m\n\u001b[32m----> \u001b[39m\u001b[32m1\u001b[39m \u001b[38;5;28mtype\u001b[39m(\u001b[43msaved_info\u001b[49m\u001b[43m[\u001b[49m\u001b[33;43m'\u001b[39;49m\u001b[33;43m특기\u001b[39;49m\u001b[33;43m'\u001b[39;49m\u001b[43m]\u001b[49m)\n",
      "\u001b[31mTypeError\u001b[39m: 'Person' object is not subscriptable"
     ]
    }
   ],
   "source": [
    "type(saved_info['특기'])"
   ]
  },
  {
   "cell_type": "markdown",
   "metadata": {
    "slideshow": {
     "slide_type": "skip"
    }
   },
   "source": [
    "# TODO"
   ]
  },
  {
   "cell_type": "markdown",
   "metadata": {
    "slideshow": {
     "slide_type": "skip"
    }
   },
   "source": [
    "- ## 간단한 CLI 기반 메모장\n",
    "    1. 사용자로부터 파일명을 입력받는다.  \n",
    "    2. 사용자로부터 파일에 저장할 문장을 입력받아서 파일에 저장한다.\n",
    "        - 한줄씩 입력받는다.\n",
    "        - 사용자가 !q 를 입력하면 저장후 종료한다.\n",
    "    3. 사용자가 저장한 파일을 읽어서 출력한다.\n"
   ]
  },
  {
   "cell_type": "markdown",
   "metadata": {
    "slideshow": {
     "slide_type": "skip"
    }
   },
   "source": [
    "입력: input()\n",
    "!q 전까지 계속 입력받아서 저장 - 반복문(while)\n",
    "저장 : \"wt\""
   ]
  },
  {
   "cell_type": "code",
   "execution_count": 105,
   "metadata": {},
   "outputs": [
    {
     "name": "stdin",
     "output_type": "stream",
     "text": [
      "저장할 파일명을 입력하세요: asd\n"
     ]
    },
    {
     "name": "stdout",
     "output_type": "stream",
     "text": [
      "입력받을 문장을 입력하세요. !q를 입력하면 저장 후 종료됩니다.\n"
     ]
    },
    {
     "name": "stdin",
     "output_type": "stream",
     "text": [
      " dasf\n",
      " asdf\n",
      " dsa\n",
      " ds\n",
      " ds\n",
      " sd\n",
      " d\n",
      " sd\n",
      " ds\n",
      " sd\n",
      " sd\n",
      " sd\n",
      " sd\n",
      " s!q\n",
      " !q\n"
     ]
    },
    {
     "name": "stdout",
     "output_type": "stream",
     "text": [
      "저장된 내용 출력\n",
      "dasf\n",
      "asdf\n",
      "dsa\n",
      "ds\n",
      "ds\n",
      "sd\n",
      "d\n",
      "sd\n",
      "ds\n",
      "sd\n",
      "sd\n",
      "sd\n",
      "sd\n",
      "s!q\n",
      "\n"
     ]
    }
   ],
   "source": [
    "def TODO():\n",
    "    filename = input(\"저장할 파일명을 입력하세요: \")\n",
    "\n",
    "    with open(filename, \"wt\", encoding = \"utf=8\") as file:\n",
    "        print(\"입력받을 문장을 입력하세요. !q를 입력하면 저장 후 종료됩니다.\")\n",
    "        while True:\n",
    "            line = input()\n",
    "            if line == \"!q\":\n",
    "                break\n",
    "            file.write(line + '\\n')\n",
    "\n",
    "    print(\"저장된 내용 출력\")\n",
    "    with open(filename, \"rt\", encoding = \"utf=8\") as file:\n",
    "        print(file.read())\n",
    "\n",
    "TODO()"
   ]
  },
  {
   "cell_type": "code",
   "execution_count": null,
   "metadata": {},
   "outputs": [],
   "source": [
    "1. 사용자로부터 파일명을 입력받는다.\n",
    "2. 사용자로부터 파일에 저장할 문장을 입력받아서 파일에 저장한다.\n",
    "    - 한 줄씩 입력받는다.\n",
    "    - 사용자가 !q를 입력하면 저장 후 종료한다.\n",
    "3. 사용자가 저장한 파일을 읽어서 출력한다.\n",
    "        "
   ]
  },
  {
   "cell_type": "code",
   "execution_count": 111,
   "metadata": {},
   "outputs": [
    {
     "name": "stdout",
     "output_type": "stream",
     "text": [
      "Overwriting simple_memo.py\n"
     ]
    }
   ],
   "source": [
    "%%writefile simple_memo.py\n",
    "\n",
    "print(\"==================CLI 메모장================\")\n",
    "file_path = input(\"저장할 파일 경로:\")\n",
    "with open(file_path, \"wt\", encoding=\"utf-8\") as fw:\n",
    "    print(\"==========저장할 내용을 한줄씩 입력하세요.============\")\n",
    "    while True:\n",
    "        txt = input(\">>\")\n",
    "        if txt == '!q':\n",
    "            break\n",
    "        fw.write(txt + \"\\n\")\n",
    "print(\"==========저장되었습니다==========\")"
   ]
  }
 ],
 "metadata": {
  "kernelspec": {
   "display_name": "Python 3 (ipykernel)",
   "language": "python",
   "name": "python3"
  },
  "language_info": {
   "codemirror_mode": {
    "name": "ipython",
    "version": 3
   },
   "file_extension": ".py",
   "mimetype": "text/x-python",
   "name": "python",
   "nbconvert_exporter": "python",
   "pygments_lexer": "ipython3",
   "version": "3.12.3"
  },
  "toc": {
   "base_numbering": 1,
   "nav_menu": {},
   "number_sections": true,
   "sideBar": true,
   "skip_h1_title": false,
   "title_cell": "Table of Contents",
   "title_sidebar": "Contents",
   "toc_cell": false,
   "toc_position": {},
   "toc_section_display": true,
   "toc_window_display": false
  },
  "varInspector": {
   "cols": {
    "lenName": 16,
    "lenType": 16,
    "lenVar": 40
   },
   "kernels_config": {
    "python": {
     "delete_cmd_postfix": "",
     "delete_cmd_prefix": "del ",
     "library": "var_list.py",
     "varRefreshCmd": "print(var_dic_list())"
    },
    "r": {
     "delete_cmd_postfix": ") ",
     "delete_cmd_prefix": "rm(",
     "library": "var_list.r",
     "varRefreshCmd": "cat(var_dic_list()) "
    }
   },
   "types_to_exclude": [
    "module",
    "function",
    "builtin_function_or_method",
    "instance",
    "_Feature"
   ],
   "window_display": false
  }
 },
 "nbformat": 4,
 "nbformat_minor": 4
}
