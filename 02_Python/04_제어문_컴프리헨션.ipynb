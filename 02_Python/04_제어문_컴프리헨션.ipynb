{
 "cells": [
  {
   "cell_type": "markdown",
   "id": "8c49cd8e",
   "metadata": {
    "slideshow": {
     "slide_type": "slide"
    }
   },
   "source": [
    "# 제어문(Control flow statement)\n",
    "\n",
    "기본적으로 프로그램은 순차구조를 가진다. 즉 작성한 순서대로 실행이 된다.  \n",
    "이런 실행흐름을 다른 순서로 제어하기 위한 구문을 만드는 문법이 제어문이다.  \n",
    "제어문은 **조건문** 과 **반복문** 두가지 문법이 있다.\n",
    "\n",
    "-   **조건문**\n",
    "    -   if 문\n",
    "-   **반복문**\n",
    "    -   while 문\n",
    "    -   for in 문\n"
   ]
  },
  {
   "cell_type": "markdown",
   "id": "92c502ce",
   "metadata": {
    "slideshow": {
     "slide_type": "slide"
    }
   },
   "source": [
    "# 조건문/분기문 (conditional statement)\n",
    "\n",
    "-   프로그램이 명령문들을 실행하는 도중 특정 순서에서 **조건에 따라 흐름의 나눠져야 하는 경우 사용한다**\n",
    "-   파이썬은 조건문으로 **if문**이 있다.\n",
    "\n",
    "![조건문](images/ch03_01.png)\n",
    "\n",
    "<center>입력 받은 a 의 값이 0인지 여부에 따라 두가지 흐름으로 분기된다.</center>\n"
   ]
  },
  {
   "cell_type": "code",
   "execution_count": null,
   "id": "e906c9ec-38cb-4f31-9754-318eb2a79198",
   "metadata": {},
   "outputs": [],
   "source": [
    "# flow chart"
   ]
  },
  {
   "cell_type": "code",
   "execution_count": null,
   "id": "f42b5004-df28-46af-839c-97358e630d84",
   "metadata": {},
   "outputs": [],
   "source": [
    "# if 조건:\n",
    "#     명령문\n",
    "#     명령문"
   ]
  },
  {
   "cell_type": "markdown",
   "id": "2a3c1835",
   "metadata": {
    "slideshow": {
     "slide_type": "subslide"
    }
   },
   "source": [
    "## 구문\n",
    "\n",
    "-   조건이 True일 경우만 특정 구문들을 실행 하는 조건문.\n",
    "\n",
    "```python\n",
    "if 조건:    # 조건은 bool 표현식을 기술한다. 조건선언 다음에 : 으로 선언해서 코드블록을 구분한다.\n",
    "    명령문1  # 조건이 True이면 실행할 구문들을 코드블럭에 기술한다.\n",
    "    명령문2  # 코드 블록은 들여쓰기를 이용해 묶어준다. 보통 공백 4칸으로 들여쓰기를 한다.\n",
    "    ...\n",
    "```\n",
    "\n",
    "> ### 파이썬의 코드블록(code block)\n",
    ">\n",
    "> 코드블록이란 **여러 명령문들을 묶어놓은 것을** 말한다. 코드블록으로 묶이면 실행시 같이 다 실행되고 실행이 안되면 같이 다 실행이 안된다.  \n",
    "> 파이썬에서는 코드블록을 작성할 때 **들여쓰기를 이용해 묶어준다.**  \n",
    "> 같은 칸만큼 들여쓰기를 한 명령문들이 같은 블록으로 묶인다.\n",
    "> 들여쓰기는 관례적으로 **공백 4칸을** 사용한다.\n",
    "\n",
    "> ### pass 키워드(예약어)\n",
    ">\n",
    "> -   빈 구현부를 만들때 사용\n",
    ">     -   제어문, 함수의 body 코드블럭은 비울 수 없다. 반드시 명령문을 한개 이상 작성해야한다.\n",
    ">     -   작성할 내용이 없을 경우 사용하는 키워드로 `pass`를 사용한다.\n"
   ]
  },
  {
   "cell_type": "code",
   "execution_count": 4,
   "id": "9aa311a5",
   "metadata": {
    "slideshow": {
     "slide_type": "fragment"
    }
   },
   "outputs": [
    {
     "name": "stdin",
     "output_type": "stream",
     "text": [
      ">>>정수: 0\n"
     ]
    },
    {
     "name": "stdout",
     "output_type": "stream",
     "text": [
      "0입니다.\n",
      "Zero\n",
      "영\n",
      "종료\n"
     ]
    }
   ],
   "source": [
    "num = int(input(\">>>정수:\"))\n",
    "#num이 0이면 \"영입니다.\" 를 출력\n",
    "if num == 0: #선언부    #if not num도 가능\n",
    "    # 구현부\n",
    "    print(\"0입니다.\")\n",
    "    print(\"Zero\")\n",
    "    print(\"영\")\n",
    "print('종료')"
   ]
  },
  {
   "cell_type": "code",
   "execution_count": 1,
   "id": "d1b3a5a6-b004-45cb-a5b0-b38143f29e58",
   "metadata": {},
   "outputs": [],
   "source": [
    "num = 10\n",
    "if num == 0: print(\"영입니다.\") #실행 명령어가 하나일 때\n",
    "\n",
    "######################################################### 필기하기"
   ]
  },
  {
   "cell_type": "markdown",
   "id": "09c79c35",
   "metadata": {
    "slideshow": {
     "slide_type": "subslide"
    }
   },
   "source": [
    "-   **조건이 True일 때 False일때 실행 구문이 분기되는 조건문.**\n",
    "\n",
    "```python\n",
    "if 조건:\n",
    "    명령문1_1 # 조건이 True일 경우 실행할 구문들\n",
    "    명령문1_2\n",
    "    ...\n",
    "else:\n",
    "    명령문2_1 # 조건이 False일 경우 실행할 구문들\n",
    "    명령문2_2\n",
    "    ...\n",
    "```\n"
   ]
  },
  {
   "cell_type": "code",
   "execution_count": 8,
   "id": "87b51956",
   "metadata": {
    "slideshow": {
     "slide_type": "fragment"
    }
   },
   "outputs": [
    {
     "name": "stdin",
     "output_type": "stream",
     "text": [
      ">>>정수: 100\n"
     ]
    },
    {
     "name": "stdout",
     "output_type": "stream",
     "text": [
      "입력받은 숫자: 100\n"
     ]
    }
   ],
   "source": [
    "num = int(input(\">>>정수:\"))\n",
    "if num == 0:\n",
    "    print(\"영입니다.\")\n",
    "    print(\"This is zero.\")\n",
    "else:\n",
    "    print(f\"입력받은 숫자: {num}\")"
   ]
  },
  {
   "cell_type": "code",
   "execution_count": 13,
   "id": "a24287f7-222d-4454-a677-d2283d734bf4",
   "metadata": {},
   "outputs": [
    {
     "name": "stdin",
     "output_type": "stream",
     "text": [
      ">>>정수: 2\n"
     ]
    }
   ],
   "source": [
    "num = int(input(\">>>정수:\"))\n",
    "if num == 0:\n",
    "    pass\n",
    "else:\n",
    "    pass"
   ]
  },
  {
   "cell_type": "code",
   "execution_count": 14,
   "id": "844c79a2-1bd2-4c1e-9a9b-fc13caf2e815",
   "metadata": {},
   "outputs": [],
   "source": [
    "def a():\n",
    "    pass\n",
    "def b():\n",
    "    pass\n",
    "def c():\n",
    "    pass"
   ]
  },
  {
   "cell_type": "markdown",
   "id": "621eae9a",
   "metadata": {
    "slideshow": {
     "slide_type": "subslide"
    }
   },
   "source": [
    "-   **조건이 여러 개인 조건문.**\n",
    "\n",
    "```python\n",
    "if 조건1:\n",
    "    명령문1_1  # 조건1이 True일 경우 실행할 코드블록.\n",
    "    명령문1_2\n",
    "    ...\n",
    "elif 조건2:    # 다음 조건으로 앞의 조건들이 모드 False일 경우 비교한다.\n",
    "    명령문2_1  # 조건2가 True일 경우 실행할 코드블록.\n",
    "    명령문2_2\n",
    "    ...\n",
    "elif 조건3 :\n",
    "    명령문3_1\n",
    "    명령문3_2\n",
    "    ...\n",
    "else:         # 위의 모든 조건이 False일 경우 실행하는 코드블록. 생략 가능하다.\n",
    "    명령문4\n",
    "```\n"
   ]
  },
  {
   "cell_type": "code",
   "execution_count": 19,
   "id": "4c6a532d",
   "metadata": {
    "slideshow": {
     "slide_type": "fragment"
    }
   },
   "outputs": [
    {
     "name": "stdin",
     "output_type": "stream",
     "text": [
      ">>>정수: -100\n"
     ]
    },
    {
     "name": "stdout",
     "output_type": "stream",
     "text": [
      "음수입니다.\n",
      "종료\n"
     ]
    }
   ],
   "source": [
    "num = int(input(\">>>정수:\")) #1\n",
    "#2\n",
    "if num == 0:\n",
    "    print(\"영입니다.\")\n",
    "elif num > 0:\n",
    "    print(\"양수입니다.\")\n",
    "# elif num < 0:\n",
    "else:\n",
    "    print(\"음수입니다.\")\n",
    "\n",
    "print(\"종료\") #3"
   ]
  },
  {
   "cell_type": "code",
   "execution_count": null,
   "id": "30244a8c-adf5-4448-b34f-c35cb08dd6b0",
   "metadata": {},
   "outputs": [],
   "source": []
  },
  {
   "cell_type": "markdown",
   "id": "2149b728",
   "metadata": {
    "slideshow": {
     "slide_type": "slide"
    }
   },
   "source": [
    "# 반복문 (Loop statement)\n",
    "\n",
    "특정 구문들을 반복해서 실행할 때 사용한다. 동일한 코드를 여러번 반복하거나 값이 일정하게 변하는 코드를 반복할 경우 사용한다.  \n",
    "단순 반복을 처리하는 **while문**과 iterable객체가 제공하는 값들을 반복 조회하는 **for in문** 두가지 문법이 있다.\n",
    "\n",
    "![반복문](images/ch03_02.png)\n",
    "\n",
    "<center>count의 값이 limit의 값보다 크거나 같을때 까지 count의 값을 1증가 후 출력하는 구문을 반복한다. </center>\n"
   ]
  },
  {
   "cell_type": "markdown",
   "id": "b4740a36",
   "metadata": {
    "slideshow": {
     "slide_type": "subslide"
    }
   },
   "source": [
    "## while문\n",
    "\n",
    "-   조건이 True인 동안 구문을 반복해서 실행한다.\n",
    "\n",
    "### 구문\n",
    "\n",
    "```python\n",
    "while 조건:       # 조건은 bool 표현식을 기술한다. 조건선언 다음에 : 으로 선언해서 코드블록을 구분한다\n",
    "    반복할 구문1  # 반복할 구문을 코드블록으로 작성한다.\n",
    "    반복할 구문2\n",
    "    ...\n",
    "```\n"
   ]
  },
  {
   "cell_type": "code",
   "execution_count": 7,
   "id": "6b11bde6",
   "metadata": {
    "slideshow": {
     "slide_type": "fragment"
    }
   },
   "outputs": [
    {
     "name": "stdout",
     "output_type": "stream",
     "text": [
      "1. 안녕하세요.\n",
      "2. 안녕하세요.\n",
      "3. 안녕하세요.\n",
      "4. 안녕하세요.\n",
      "5. 안녕하세요.\n",
      "6. 안녕하세요.\n",
      "7. 안녕하세요.\n",
      "8. 안녕하세요.\n",
      "9. 안녕하세요.\n",
      "10. 안녕하세요.\n",
      "종료\n"
     ]
    }
   ],
   "source": [
    "count = 0\n",
    "limit = 10\n",
    "while count < limit:\n",
    "    # count = count + 1\n",
    "    count += 1\n",
    "    print(f\"{count}. 안녕하세요.\")\n",
    "print(\"종료\")"
   ]
  },
  {
   "cell_type": "markdown",
   "id": "04f12e55",
   "metadata": {
    "slideshow": {
     "slide_type": "subslide"
    }
   },
   "source": [
    "## for in 문\n",
    "\n",
    "-   Iterable 객체를 순환조회하는 구문\n",
    "    -   for in문은 Iterable 타입의 객체가 가지고 있는 값들을 하나씩 처리하는 구문을 작성할 때 사용한다.\n",
    "\n",
    "> -   **Iterable**\n",
    ">     -   반복가능한 객체. 반복문(for in)을 이용해 일련의 값들을 반복적으로 각각 제공하는 객체를 말한다.\n",
    ">     -   대표적으로 List, Tuple, Dictionary, Set, 문자열 등이 있다.\n",
    "\n",
    "### 구문\n",
    "\n",
    "```python\n",
    "for 변수 in Iterable: # for in 선언후 : 으로 선언부와 구현부를 나눈다.\n",
    "    반복구문          # Iterable이 반복시 제공하는 값을 가지는 \"변수\"를 이용해 값들을 처리하는 구문을 코드블록으로 작성한다.\n",
    "    반복구문\n",
    "```\n"
   ]
  },
  {
   "cell_type": "code",
   "execution_count": 13,
   "id": "84ab57da-e4ff-4038-8df5-ec46f2d3b8cc",
   "metadata": {
    "slideshow": {
     "slide_type": "fragment"
    }
   },
   "outputs": [
    {
     "name": "stdout",
     "output_type": "stream",
     "text": [
      "10\t100\t20\t30\t500\t15\t"
     ]
    }
   ],
   "source": [
    "l = [10, 100, 20, 30, 500, 15]\n",
    "# l의 모든 원소들을 출력 (Iterable(반복대상) : l, 일괄처리: 출력)\n",
    "for v in l:\n",
    "    print(v, end=\"\\t\")"
   ]
  },
  {
   "cell_type": "code",
   "execution_count": 14,
   "id": "31e2cc73-5396-4fc4-9315-1d797e522e56",
   "metadata": {},
   "outputs": [
    {
     "name": "stdout",
     "output_type": "stream",
     "text": [
      "20\n",
      "200\n",
      "40\n",
      "60\n",
      "1000\n",
      "30\n"
     ]
    }
   ],
   "source": [
    "#l의 모든 값들을 두배로 늘리기. (iterable: l, 일괄처리: 두배)\n",
    "result = []\n",
    "for v in l:\n",
    "    print(v * 2)\n",
    "    result.append(v * 2)"
   ]
  },
  {
   "cell_type": "code",
   "execution_count": 15,
   "id": "d40a9c4e-77a3-40ba-8a30-4098758df99c",
   "metadata": {},
   "outputs": [
    {
     "name": "stdout",
     "output_type": "stream",
     "text": [
      "[10, 100, 20, 30, 500, 15]\n",
      "[20, 200, 40, 60, 1000, 30]\n"
     ]
    }
   ],
   "source": [
    "print(l)\n",
    "print(result)"
   ]
  },
  {
   "cell_type": "code",
   "execution_count": 17,
   "id": "4ec675cf-964b-427f-bdad-8e93025e908e",
   "metadata": {},
   "outputs": [
    {
     "name": "stdout",
     "output_type": "stream",
     "text": [
      "10는 3의 배수가 아님.\n",
      "100는 3의 배수가 아님.\n",
      "20는 3의 배수가 아님.\n",
      "30\n",
      "500는 3의 배수가 아님.\n",
      "15\n"
     ]
    }
   ],
   "source": [
    "#3의 배수를 찾기 (Iterable: l, 일괄처리: 3의 배수인지 확인)\n",
    "for v in l:\n",
    "    if v % 3 == 0:\n",
    "        print(v)\n",
    "    else:\n",
    "        print(f\"{v}는 3의 배수가 아님.\")"
   ]
  },
  {
   "cell_type": "code",
   "execution_count": 18,
   "id": "c266740f-4758-4d2a-a33d-e679016e80ca",
   "metadata": {},
   "outputs": [
    {
     "name": "stdout",
     "output_type": "stream",
     "text": [
      "10\n",
      "20\n",
      "30\n"
     ]
    }
   ],
   "source": [
    "s = {10, 20, 30}\n",
    "for v in s:\n",
    "    print(v)"
   ]
  },
  {
   "cell_type": "code",
   "execution_count": 19,
   "id": "f6344d71-67ba-4109-9e90-588db1a09853",
   "metadata": {},
   "outputs": [
    {
     "name": "stdout",
     "output_type": "stream",
     "text": [
      "1\n",
      "2\n",
      "3\n",
      "4\n",
      "5\n"
     ]
    }
   ],
   "source": [
    "t = 1, 2, 3, 4, 5\n",
    "for v in t:\n",
    "    print(v)"
   ]
  },
  {
   "cell_type": "code",
   "execution_count": 21,
   "id": "a8648334-fce6-4da3-985c-c4530f39082e",
   "metadata": {},
   "outputs": [
    {
     "name": "stdout",
     "output_type": "stream",
     "text": [
      "a 10\n",
      "b 20\n",
      "c 30\n"
     ]
    }
   ],
   "source": [
    "#dict\n",
    "d = {\"a\":10, \"b\":20, \"c\":30}\n",
    "for key in d:\n",
    "    print(key, d[key])"
   ]
  },
  {
   "cell_type": "code",
   "execution_count": 22,
   "id": "0b60254f-7398-4150-9744-c9551db51ee8",
   "metadata": {},
   "outputs": [
    {
     "data": {
      "text/plain": [
       "10"
      ]
     },
     "execution_count": 22,
     "metadata": {},
     "output_type": "execute_result"
    }
   ],
   "source": [
    "# d[\"a\"]\n",
    "v = \"a\"\n",
    "d[v]"
   ]
  },
  {
   "cell_type": "code",
   "execution_count": 24,
   "id": "0d4198ca-a034-4e63-b8a6-87040f90833f",
   "metadata": {},
   "outputs": [
    {
     "data": {
      "text/plain": [
       "dict_keys(['a', 'b', 'c'])"
      ]
     },
     "execution_count": 24,
     "metadata": {},
     "output_type": "execute_result"
    }
   ],
   "source": [
    "d.keys()"
   ]
  },
  {
   "cell_type": "code",
   "execution_count": 25,
   "id": "442adce8-3a70-41b9-a226-f3a458749420",
   "metadata": {},
   "outputs": [
    {
     "name": "stdout",
     "output_type": "stream",
     "text": [
      "10\n",
      "20\n",
      "30\n"
     ]
    }
   ],
   "source": [
    "for v in d.values():\n",
    "    print(v)"
   ]
  },
  {
   "cell_type": "code",
   "execution_count": 26,
   "id": "26af1919-fa1f-4413-9935-003594d6a786",
   "metadata": {},
   "outputs": [
    {
     "data": {
      "text/plain": [
       "dict_items([('a', 10), ('b', 20), ('c', 30)])"
      ]
     },
     "execution_count": 26,
     "metadata": {},
     "output_type": "execute_result"
    }
   ],
   "source": [
    "d.items()\n",
    "# [('a', 10), ('b', 20), ('c', 30)][(key, value), ]"
   ]
  },
  {
   "cell_type": "code",
   "execution_count": 27,
   "id": "45c27ac2-533a-4cee-a9cf-687c21eaf8dc",
   "metadata": {},
   "outputs": [
    {
     "name": "stdout",
     "output_type": "stream",
     "text": [
      "a 10\n"
     ]
    }
   ],
   "source": [
    "k, v = (\"a\", 10)\n",
    "print(k, v)"
   ]
  },
  {
   "cell_type": "code",
   "execution_count": 31,
   "id": "33d6732b-8303-4a0f-9a45-8a178287ba33",
   "metadata": {},
   "outputs": [
    {
     "name": "stdout",
     "output_type": "stream",
     "text": [
      "a 10\n",
      "b 20\n",
      "c 30\n"
     ]
    }
   ],
   "source": [
    "for key, value in d.items():    #원소가 자료구조일 때 원소 개수만큼 변수를 선언할 수 있다.\n",
    "    print(key, value)"
   ]
  },
  {
   "cell_type": "code",
   "execution_count": 32,
   "id": "f0071b20-cc7d-4bf3-9d35-3227157dbde4",
   "metadata": {},
   "outputs": [
    {
     "name": "stdout",
     "output_type": "stream",
     "text": [
      "가, 나, 다, a, b, c, d, e, 1, 2, 3, 4, "
     ]
    }
   ],
   "source": [
    "# 문자열\n",
    "for char in \"가나다abcde1234\":\n",
    "    print(char, end = \", \")"
   ]
  },
  {
   "cell_type": "code",
   "execution_count": null,
   "id": "e78c4b5d-7209-4c90-b220-e29ae5bb3633",
   "metadata": {},
   "outputs": [],
   "source": []
  },
  {
   "cell_type": "markdown",
   "id": "1f30cd6f",
   "metadata": {
    "slideshow": {
     "slide_type": "subslide"
    }
   },
   "source": [
    "## continue와 break를 이용한 반복문 제어\n",
    "\n",
    "-   **continue**\n",
    "    -   실행 블록에서 continue가 실행되면 현재 반복을 중단하고 다음 반복을 진행한다.\n",
    "    -   특정 조건에서 처리를 멈추고 다음 처리를 반복할 때 사용한다.\n",
    "-   **break**\n",
    "    -   반복문 실행을 중단한다.\n",
    "    -   특정 조건에서 반복문을 중간에 중지할때 사용한다.\n",
    "-   continue와 break는 특정 조건에서 실행되야 하는 경우가 대부분이므로 if문 안에 작성한다.\n"
   ]
  },
  {
   "cell_type": "code",
   "execution_count": 39,
   "id": "90c41e9f",
   "metadata": {
    "slideshow": {
     "slide_type": "fragment"
    }
   },
   "outputs": [
    {
     "name": "stdout",
     "output_type": "stream",
     "text": [
      "2\n",
      "4\n",
      "6\n",
      "8\n",
      "10\n"
     ]
    }
   ],
   "source": [
    "l = [1, 2, 3, 4, 5, 6, 7, 8, 9, 10]\n",
    "# 짝수만 출력\n",
    "for v in l:\n",
    "    if v % 2 != 0: #2의 배수가 아니라면\n",
    "        continue\n",
    "    print(v)"
   ]
  },
  {
   "cell_type": "code",
   "execution_count": 41,
   "id": "970215ca-8fda-448d-9ce7-416ea6c6baad",
   "metadata": {},
   "outputs": [
    {
     "name": "stdout",
     "output_type": "stream",
     "text": [
      "1\n",
      "2\n",
      "3\n",
      "4\n",
      "5\n",
      "6\n",
      "종료\n"
     ]
    }
   ],
   "source": [
    "#만약에 7이면 반복을 종료\n",
    "for v in l:\n",
    "    if v == 7:\n",
    "        # continue   7만 빼고 출력\n",
    "        break\n",
    "    print(v)\n",
    "print(\"종료\")"
   ]
  },
  {
   "cell_type": "code",
   "execution_count": 67,
   "id": "9ab15859-3857-4377-b658-f9fc2ad20293",
   "metadata": {},
   "outputs": [
    {
     "data": {
      "text/plain": [
       "15"
      ]
     },
     "execution_count": 67,
     "metadata": {},
     "output_type": "execute_result"
    }
   ],
   "source": [
    "import random\n",
    "random.randint(10, 20)    #시작(10) ~ 끝(20) 범위 안에 있는 임의의 정수(난수-random값)를 반환."
   ]
  },
  {
   "cell_type": "code",
   "execution_count": 69,
   "id": "2765dd57-e0e3-4780-890c-715d4f6cc620",
   "metadata": {},
   "outputs": [
    {
     "name": "stdout",
     "output_type": "stream",
     "text": [
      "종료\n"
     ]
    }
   ],
   "source": [
    "# -100 ~ 100 범위에 정수 난수를 생성\n",
    "# 생성된 정수 중 양수는 `pos_result` 리스트에 음수는 `neg_result`에 저장\n",
    "# 0이 생성되면 종료\n",
    "import random\n",
    "pos_result = []\n",
    "neg_result = []\n",
    "num = random.randint(-100, 100)\n",
    "while num != 0:\n",
    "    if num > 0:\n",
    "        pos_result.append(num)\n",
    "    else:\n",
    "        neg_result.append(num)\n",
    "    num = random.randint(-100, 100)\n",
    "print(\"종료\")"
   ]
  },
  {
   "cell_type": "code",
   "execution_count": 72,
   "id": "d918772d-c411-4dd9-86be-d516ff513b57",
   "metadata": {},
   "outputs": [],
   "source": [
    "pos_result = []\n",
    "neg_result = []\n",
    "while True:\n",
    "    num = random.randint(-100, 100)\n",
    "    if num > 0:\n",
    "        pos_result.append(num)\n",
    "    elif num < 0:\n",
    "        neg_result.append(num)\n",
    "    else: # == 0\n",
    "        break"
   ]
  },
  {
   "cell_type": "code",
   "execution_count": 92,
   "id": "d2319fab-b7b1-4733-8f13-f0cdb500bcf7",
   "metadata": {},
   "outputs": [
    {
     "data": {
      "text/plain": [
       "True"
      ]
     },
     "execution_count": 92,
     "metadata": {},
     "output_type": "execute_result"
    }
   ],
   "source": [
    "(a := 20) > 0  # 1. a에 20을 넣고 2.a와 0을 비교 \n",
    "# print(a)"
   ]
  },
  {
   "cell_type": "code",
   "execution_count": 88,
   "id": "c90d8dbe-982a-49c6-aab5-7ae789c2d9d0",
   "metadata": {},
   "outputs": [
    {
     "name": "stdout",
     "output_type": "stream",
     "text": [
      "종료\n"
     ]
    }
   ],
   "source": [
    "pos_result = []\n",
    "neg_result = []\n",
    "# := (왈러스 연산자 - 대입연산자) - if/while 조건절.\n",
    "# 값을 변수에 대입하고 반환. 1. 값을 변수에 대입. 2. 데입한 값을 while문 조건절에서 사용.\n",
    "while num := random.randint(-100, 100):\n",
    "# while num := random.randint(-100, 100) != 0:\n",
    "     if num > 0:\n",
    "         pos_result.append(num)\n",
    "     else:\n",
    "        neg_result.append(num)\n",
    "print(\"종료\")"
   ]
  },
  {
   "cell_type": "code",
   "execution_count": 73,
   "id": "5c8cbc8b-b8aa-41c1-94fb-baa95713547a",
   "metadata": {},
   "outputs": [
    {
     "name": "stdout",
     "output_type": "stream",
     "text": [
      "[31, 95, 6, 75, 76, 75, 72, 96, 71, 87, 87, 44, 11, 60, 65, 8, 83, 96, 65, 42, 19, 22, 37, 52, 61, 55, 19, 35, 60, 31, 49, 70, 84, 89, 29, 16, 60, 24, 22, 52, 93, 85, 51, 31, 58, 88, 29, 14, 34, 93, 54, 29, 50, 80, 55, 22, 83, 81, 40, 16, 46, 85, 17, 4, 14, 2, 77, 51, 37, 12, 57, 7, 12, 37, 80, 27, 50, 88, 69, 75, 77, 53]\n"
     ]
    }
   ],
   "source": [
    "print(pos_result)"
   ]
  },
  {
   "cell_type": "code",
   "execution_count": 74,
   "id": "34e167e9-6b81-4349-b541-949f455b49d1",
   "metadata": {},
   "outputs": [
    {
     "name": "stdout",
     "output_type": "stream",
     "text": [
      "[-100, -40, -52, -61, -26, -81, -92, -6, -46, -73, -4, -35, -97, -9, -95, -9, -94, -33, -3, -29, -26, -57, -60, -79, -52, -74, -93, -35, -74, -79, -79, -26, -93, -5, -89, -27, -14, -12, -4, -52, -48, -29, -93, -58, -86, -6, -4, -34, -79, -50, -55, -100, -69, -100, -65, -80, -45, -88, -73, -38, -16, -66, -14, -55, -60, -63, -7, -71, -93, -93, -93, -8, -80, -99, -90, -67, -70, -62, -44, -37, -51, -41, -86]\n"
     ]
    }
   ],
   "source": [
    "print(neg_result)"
   ]
  },
  {
   "cell_type": "markdown",
   "id": "dc6099c5",
   "metadata": {
    "slideshow": {
     "slide_type": "slide"
    }
   },
   "source": [
    "## for in 문 연관 내장 함수\n",
    "\n",
    "### range()\n",
    "\n",
    "-   일정한 간격의 연속된 정수를 제공하는 반복가능 객체 생성한다.\n",
    "-   구문\n",
    "    -   `range([시작값], 멈춤값, [증감값])`\n",
    "        -   시작값, 멈춤값, 증감값 모두 정수만 가능하다.\n",
    "        -   시작값 > 멈춤값 이고 증감값이 음수이면 내림차순으로 값을 제공한다.\n",
    "        1. 전달값이 **1개: 멈춤값**.\n",
    "            - 0 ~ (멈춤값-1)까지 1씩 증가하는 정수를 제공\n",
    "        2. 전달값이 **2개: 시작값, 멈춤값**.\n",
    "            - 시작값 ~ (멈춤값-1) 까지 1씩 증가하는 정수 제공\n",
    "        3. 전달값이 **3개: 시작값, 멈춤값, 증감값(간격)**.\n",
    "            - 시작값 ~ (멈춤값-1)까지 증감값만큼 증가하는 정수를 제공.\n"
   ]
  },
  {
   "cell_type": "code",
   "execution_count": 97,
   "id": "352d937b",
   "metadata": {
    "slideshow": {
     "slide_type": "fragment"
    }
   },
   "outputs": [
    {
     "name": "stdout",
     "output_type": "stream",
     "text": [
      "10\t11\t12\t13\t14\t15\t16\t17\t18\t19\t"
     ]
    }
   ],
   "source": [
    "for v in range(10, 20): #(시작값, 종료값) #간격 : 1\n",
    "    print(v, end = \"\\t\")"
   ]
  },
  {
   "cell_type": "code",
   "execution_count": 98,
   "id": "b5ba6979-d01d-4085-ad82-177115ab809c",
   "metadata": {},
   "outputs": [
    {
     "name": "stdout",
     "output_type": "stream",
     "text": [
      "10\t13\t16\t19\t22\t25\t28\t"
     ]
    }
   ],
   "source": [
    "for v in range(10, 30, 3):  #(시작값, 종료값, 간격)\n",
    "    print(v, end = \"\\t\")"
   ]
  },
  {
   "cell_type": "code",
   "execution_count": 99,
   "id": "792adc1e-76cb-45e0-88a9-9d412a79702a",
   "metadata": {},
   "outputs": [
    {
     "name": "stdout",
     "output_type": "stream",
     "text": [
      "0\t1\t2\t3\t4\t5\t6\t7\t8\t9\t10\t11\t12\t13\t14\t15\t16\t17\t18\t19\t"
     ]
    }
   ],
   "source": [
    "for v in range(20):  #(종료값)  #시작: 0, 간격: 1\n",
    "    print(v, end = \"\\t\")"
   ]
  },
  {
   "cell_type": "code",
   "execution_count": 102,
   "id": "1265c66d-565c-41ca-873a-a8d00be03a76",
   "metadata": {},
   "outputs": [
    {
     "data": {
      "text/plain": [
       "(5, 6, 7, 8, 9, 10, 11, 12, 13, 14)"
      ]
     },
     "execution_count": 102,
     "metadata": {},
     "output_type": "execute_result"
    }
   ],
   "source": [
    "# range(): iterable\n",
    "l = list(range(1, 11))\n",
    "l = set(range(-10, 10))\n",
    "l = tuple(range(5, 15))\n",
    "l"
   ]
  },
  {
   "cell_type": "code",
   "execution_count": 103,
   "id": "84268717-0651-4b3c-9a4e-2c1a985787b9",
   "metadata": {},
   "outputs": [
    {
     "data": {
      "text/plain": [
       "[10, 8, 6, 4, 2, 0, -2, -4, -6, -8]"
      ]
     },
     "execution_count": 103,
     "metadata": {},
     "output_type": "execute_result"
    }
   ],
   "source": [
    "# reverse(역순)\n",
    "list(range(10, -10, -2))"
   ]
  },
  {
   "cell_type": "code",
   "execution_count": 104,
   "id": "405f97dd-d5ff-490d-8b09-b9f88de8635f",
   "metadata": {},
   "outputs": [],
   "source": [
    "# 안녕을 10번 출력\n",
    "c = 0\n",
    "while c < 10:\n",
    "    #작업\n",
    "    c += 1"
   ]
  },
  {
   "cell_type": "code",
   "execution_count": 106,
   "id": "0394917f-a18f-42db-8ca4-961cb1224f58",
   "metadata": {},
   "outputs": [
    {
     "name": "stdout",
     "output_type": "stream",
     "text": [
      "안녕\n",
      "안녕\n",
      "안녕\n",
      "안녕\n",
      "안녕\n",
      "안녕\n",
      "안녕\n",
      "안녕\n",
      "안녕\n",
      "안녕\n"
     ]
    }
   ],
   "source": [
    "for _ in range(10):   # 변수명 `_` 사용하는 경우: 사용하지 않을 변수인데 문법때문에 넣어야 할 경우.\n",
    "    print(\"안녕\")"
   ]
  },
  {
   "cell_type": "markdown",
   "id": "5de9d74e",
   "metadata": {
    "slideshow": {
     "slide_type": "subslide"
    }
   },
   "source": [
    "## enumerate()\n",
    "\n",
    "-   구문\n",
    "    -   `enumerate(Iterable,  [, start=정수])`\n",
    "        -   현재 몇번째 값을 제공하는 지(현재 몇번째 반복인지)를 나타내는 **index**와 제공하는 **원소**를 tuple로 묶어서 반환\n",
    "        -   Iterable\n",
    "            -   값을 제공할 Iterable객체\n",
    "        -   start: 정수\n",
    "            -   index 시작 값. 생략하면 0부터 시작한다.\n"
   ]
  },
  {
   "cell_type": "code",
   "execution_count": 116,
   "id": "33dd96c5",
   "metadata": {
    "slideshow": {
     "slide_type": "fragment"
    }
   },
   "outputs": [
    {
     "name": "stdout",
     "output_type": "stream",
     "text": [
      "0 10\n",
      "1 11\n",
      "2 12\n",
      "3 13\n",
      "4 14\n",
      "5 15\n",
      "6 16\n",
      "7 17\n",
      "8 18\n",
      "9 19\n"
     ]
    }
   ],
   "source": [
    "l = list(range(10, 20))\n",
    "# for v in enumerate(l):  #(index: 몇 번째 반복인지, 값)\n",
    "for idx, value in enumerate(l):\n",
    "    print(idx, value)"
   ]
  },
  {
   "cell_type": "code",
   "execution_count": 118,
   "id": "160a4a77-70c5-45e0-8ddd-971641699d61",
   "metadata": {},
   "outputs": [
    {
     "name": "stdout",
     "output_type": "stream",
     "text": [
      "1000 - 중간결과\n",
      "2000 - 중간결과\n",
      "3000 - 중간결과\n",
      "4000 - 중간결과\n",
      "5000 - 중간결과\n",
      "6000 - 중간결과\n",
      "7000 - 중간결과\n",
      "8000 - 중간결과\n",
      "9000 - 중간결과\n",
      "10000 - 중간결과\n"
     ]
    }
   ],
   "source": [
    "# 10_000 번 반복 처리 -> 중간 결과를 1_000번에 한번씩 출력\n",
    "for idx, value in enumerate(range(10000), start = 1):\n",
    "    #작업\n",
    "    #중간 결과를 출력\n",
    "    if idx % 1000 == 0:\n",
    "        print(f\"{idx} - 중간결과\")\n",
    "    "
   ]
  },
  {
   "cell_type": "markdown",
   "id": "f5a5540f",
   "metadata": {
    "slideshow": {
     "slide_type": "subslide"
    }
   },
   "source": [
    "## zip()\n",
    "\n",
    "-   여러 개의 Iterable 객체를 받아 반복시 같은 index의 값끼리 튜플로 묶어 반환한다.\n",
    "-   구문\n",
    "    -   `zip(Iterable1, Iterable2, Iterable3 [, .......])`\n",
    "        -   Iterable 2개이상.전달한다.\n",
    "-   각 Iterable이 제공하는 원소의 개수가가 다를 경우 가장 적은 것의 개수에 맞춰 반복한다.\n"
   ]
  },
  {
   "cell_type": "code",
   "execution_count": 119,
   "id": "1b99057f",
   "metadata": {
    "slideshow": {
     "slide_type": "fragment"
    }
   },
   "outputs": [
    {
     "name": "stdout",
     "output_type": "stream",
     "text": [
      "('이순신', 30, '서울')\n",
      "('유관순', 40, '인천')\n",
      "('강감찬', 50, '부산')\n"
     ]
    }
   ],
   "source": [
    "name_list = ['이순신', '유관순', '강감찬']\n",
    "age_list = [30, 40, 50]\n",
    "address_list = ['서울', '인천', '부산']\n",
    "#같은 index가 같은 사람의 데이터.\n",
    "# 개별 사람의 데잍터를 출력(이순신, 30, 서울)\n",
    "for v in zip(name_list, age_list, address_list):\n",
    "    print(v)"
   ]
  },
  {
   "cell_type": "code",
   "execution_count": 120,
   "id": "d5a3a2a8-3ef6-4293-bb75-d9435fdb27be",
   "metadata": {},
   "outputs": [
    {
     "name": "stdout",
     "output_type": "stream",
     "text": [
      "이순신 30 서울\n",
      "유관순 40 인천\n",
      "강감찬 50 부산\n"
     ]
    }
   ],
   "source": [
    "for name, age, address in zip(name_list, age_list, address_list):\n",
    "    print(name, age, address)"
   ]
  },
  {
   "cell_type": "markdown",
   "id": "2df89dae",
   "metadata": {
    "slideshow": {
     "slide_type": "subslide"
    }
   },
   "source": [
    "# 컴프리헨션(Comprehension)\n",
    "\n",
    "-   기존 Iterable의 원소들을 이용해서 새로운 자료구조(List, Dictionary, Set)를 생성하는 구문.\n",
    "    -   기존 Iterable의 **원소들을 처리한 결과**나 **특정 조건이 True인 값들을** 새로운 자료구조에 넣을때 사용.\n",
    "    -   결과를 넣을 새로운 자료구조 타입에 따라 다음 세가지가 있다.\n",
    "        -   리스트 컴프리헨션\n",
    "        -   딕셔너리 컴프리헨션\n",
    "        -   셋 컴프리헨션\n",
    "- **튜플 컴프리헨션**은 tuple() 함수를 이용해서 만든다.\n",
    "-   **딕셔너리 컴프리헨션**과 **셋 컴프리헨션**은 파이썬 3 에 새로 추가되었다.\n",
    "-   컴프리헨션 문법은 iterable 을 타입을 넣는 곳에서는 다 적용할 수있다.\n"
   ]
  },
  {
   "cell_type": "code",
   "execution_count": 124,
   "id": "e04827d9",
   "metadata": {
    "slideshow": {
     "slide_type": "fragment"
    }
   },
   "outputs": [
    {
     "data": {
      "text/plain": [
       "[2, 4, 6]"
      ]
     },
     "execution_count": 124,
     "metadata": {},
     "output_type": "execute_result"
    }
   ],
   "source": [
    "#filtering\n",
    "l = [1, 2, 3, 4, 5, 6]\n",
    "result = []\n",
    "for v in l:\n",
    "    if v % 2 == 0:\n",
    "        result.append(v)\n",
    "result"
   ]
  },
  {
   "cell_type": "code",
   "execution_count": 149,
   "id": "75c6a269-e4ab-4918-b01b-2a57d191cd00",
   "metadata": {},
   "outputs": [
    {
     "data": {
      "text/plain": [
       "[20, 40, 60]"
      ]
     },
     "execution_count": 149,
     "metadata": {},
     "output_type": "execute_result"
    }
   ],
   "source": [
    "# filtering을 컴프리헨션 문법으로 구현\n",
    "result4 = [v*10 for v in l if v % 2 == 0]\n",
    "result4"
   ]
  },
  {
   "cell_type": "code",
   "execution_count": null,
   "id": "990dff7d-d1f4-4aa6-a30f-a7990f80135f",
   "metadata": {},
   "outputs": [],
   "source": []
  },
  {
   "cell_type": "code",
   "execution_count": 135,
   "id": "0401f21c-4488-49fc-b395-489864a7768d",
   "metadata": {},
   "outputs": [
    {
     "data": {
      "text/plain": [
       "[2, 4, 6, 8, 10, 12]"
      ]
     },
     "execution_count": 135,
     "metadata": {},
     "output_type": "execute_result"
    }
   ],
   "source": [
    "# mapping\n",
    "result2 = []\n",
    "for v in l:\n",
    "    result2.append(v * 2)\n",
    "result2"
   ]
  },
  {
   "cell_type": "code",
   "execution_count": 128,
   "id": "c256b313-e561-4092-ae07-1a94210898fa",
   "metadata": {},
   "outputs": [
    {
     "name": "stdout",
     "output_type": "stream",
     "text": [
      "[2, 4, 6, 8, 10, 12]\n"
     ]
    }
   ],
   "source": [
    "#mapping을 컴프리헨션 문법으로 구현\n",
    "result3 = [v*2 for v in l]\n",
    "print(result3)"
   ]
  },
  {
   "cell_type": "code",
   "execution_count": 136,
   "id": "d87c0c6f-8fca-4508-b413-8da78a97755d",
   "metadata": {},
   "outputs": [
    {
     "data": {
      "text/plain": [
       "{2, 4, 6, 8, 10, 12}"
      ]
     },
     "execution_count": 136,
     "metadata": {},
     "output_type": "execute_result"
    }
   ],
   "source": [
    "{v*2 for v in l}"
   ]
  },
  {
   "cell_type": "code",
   "execution_count": 138,
   "id": "d03af013-1579-4b05-8090-c0ab9c719aba",
   "metadata": {},
   "outputs": [
    {
     "data": {
      "text/plain": [
       "{'value1': 2,\n",
       " 'value2': 4,\n",
       " 'value3': 6,\n",
       " 'value4': 8,\n",
       " 'value5': 10,\n",
       " 'value6': 12}"
      ]
     },
     "execution_count": 138,
     "metadata": {},
     "output_type": "execute_result"
    }
   ],
   "source": [
    "{f\"value{v}\":v*2 for v in l}"
   ]
  },
  {
   "cell_type": "code",
   "execution_count": 141,
   "id": "bb4314b0-2151-488f-9494-0989aaf318e8",
   "metadata": {},
   "outputs": [
    {
     "data": {
      "text/plain": [
       "<generator object <genexpr> at 0x000001CC10750930>"
      ]
     },
     "execution_count": 141,
     "metadata": {},
     "output_type": "execute_result"
    }
   ],
   "source": [
    "(v*2 for v in l) #generator 생성"
   ]
  },
  {
   "cell_type": "code",
   "execution_count": 142,
   "id": "017606a1-6588-4afa-b627-897b34a1bef7",
   "metadata": {},
   "outputs": [
    {
     "data": {
      "text/plain": [
       "(2, 4, 6, 8, 10, 12)"
      ]
     },
     "execution_count": 142,
     "metadata": {},
     "output_type": "execute_result"
    }
   ],
   "source": [
    "tuple(v*2 for v in l)"
   ]
  },
  {
   "cell_type": "code",
   "execution_count": 150,
   "id": "a6debe86-b080-4c15-a259-5f900e29374b",
   "metadata": {},
   "outputs": [
    {
     "data": {
      "text/plain": [
       "[2, 4, 6, 8, 10, 12]"
      ]
     },
     "execution_count": 150,
     "metadata": {},
     "output_type": "execute_result"
    }
   ],
   "source": [
    "list (v*2 for v in l)"
   ]
  },
  {
   "cell_type": "code",
   "execution_count": 152,
   "id": "02427aa5-c345-444b-ae7d-aabf3155e8a7",
   "metadata": {},
   "outputs": [
    {
     "data": {
      "text/plain": [
       "[5, 7, 3]"
      ]
     },
     "execution_count": 152,
     "metadata": {},
     "output_type": "execute_result"
    }
   ],
   "source": [
    "l2 = [\n",
    "    [10, 5, 7],\n",
    "    [3, 50, 4]\n",
    "]\n",
    "result = [] # l2 원소중 홀수만 저장\n",
    "for l in l2:\n",
    "    for v in l:\n",
    "        if v % 2 != 0:\n",
    "            result.append(v)\n",
    "result"
   ]
  },
  {
   "cell_type": "code",
   "execution_count": 155,
   "id": "74d18b79-68ed-4190-b75e-56fc6c55c03c",
   "metadata": {},
   "outputs": [
    {
     "data": {
      "text/plain": [
       "[5, 7, 3]"
      ]
     },
     "execution_count": 155,
     "metadata": {},
     "output_type": "execute_result"
    }
   ],
   "source": [
    "result2 = [v for l in l2 for v in l if v % 2 != 0]\n",
    "result2"
   ]
  },
  {
   "cell_type": "markdown",
   "id": "092288d7",
   "metadata": {
    "slideshow": {
     "slide_type": "skip"
    }
   },
   "source": [
    "# TODO\n"
   ]
  },
  {
   "cell_type": "code",
   "execution_count": null,
   "id": "a0cc04fa",
   "metadata": {
    "slideshow": {
     "slide_type": "skip"
    }
   },
   "outputs": [],
   "source": [
    "# (1) 사용자로 부터 ID를 입력 받은 뒤 입력받은 ID가 5글자 이상이면 \"사용할 수 있습니다.\"를 5글자 미만이면 \"사용할 수 없는 ID입니다.\"를 출력하세요.\n",
    "\n",
    "\n",
    "# (2) 사용자로부터 우리나라 도시명을 입력 받은 뒤 입력받은 도시명이 서울이면 \"특별시\"를 인천,부산,광주,대구,대전,울산 이면 \"광역시\"를 나머지는 \"특별시나 광역시가 아닙니다.\"를 출력하세요.\n",
    "\n",
    "\n",
    "# (3-4)\n",
    "# (3) 아래 리스트의 평균을 구하시오.\n",
    "jumsu = [100, 90, 100, 80, 70, 100, 80, 90, 95, 85]\n",
    "\n",
    "\n",
    "# (4) 위 jumsu리스트에서 평균점수이상은 pass, 미만은 fail을 index번호와 함께 출력하시오. (ex: 0-pass, 1-pass, 2-fail)\n",
    "\n",
    "\n",
    "# (5) 아래 리스트 값들 중 최대값을 조회해 출력하시오.\n",
    "jumsu = [60, 90, 80, 80, 70, 55, 80, 90, 95, 85]\n",
    "\n",
    "\n",
    "# (6) 사용자로부터 정수를 입력받아 그 정수 단의 구구단을 출력하시오.\n",
    "# ex)\n",
    "# 단을 입력하시오 : 2\n",
    "# 2 x 1 = 2\n",
    "# 2 x 2 = 4\n",
    "# ..\n",
    "# 2 x 9 = 18\n",
    "\n",
    "# 컴프리헨션\n",
    "\n",
    "\n",
    "# (7) 다음 리스트의 원소들에 10배한 값을 (원래값, 10배값) 의 튜플 묶음으로 가지는 리스트를 만드시오 (리스트 컴프리헨션 이용)\n",
    "# Ex) [(10,100), (30,300), .., (35, 350)]\n",
    "lst = [10, 30, 70, 5, 5, 120, 700, 1, 35, 35]\n",
    "\n",
    "\n",
    "# (8) 다음 리스트가 가진 값들 중 3의 배수만 가지는 리스트를 만드시오. (리스트 컴프리헨션 이용)\n",
    "lst2 = [3, 20, 33, 21, 33, 8, 11, 10, 7, 17, 60, 120, 2]\n",
    "\n",
    "\n",
    "# (9)) 다음 파일이름들을 담은 리스트에서 확장자가 exe인 파일만 골라서 새로운 리스트에 담으시오.(string의 endswith()함수 이용)\n",
    "file_names = [\n",
    "    \"test.txt\",\n",
    "    \"a.exe\",\n",
    "    \"jupyter.bat\",\n",
    "    \"function.exe\",\n",
    "    \"b.exe\",\n",
    "    \"cat.jpg\",\n",
    "    \"dog.png\",\n",
    "    \"run.exe\",\n",
    "    \"i.dll\",\n",
    "]\n",
    "\n",
    "\n",
    "# (10) 다음 중 10글자 이상인 파일명(확장자포함)만 가지는 리스트를 만드시오.\n",
    "file_names = [\n",
    "    \"mystroy.txt\",\n",
    "    \"a.exe\",\n",
    "    \"jupyter.bat\",\n",
    "    \"function.exe\",\n",
    "    \"b.exe\",\n",
    "    \"cat.jpg\",\n",
    "    \"dog.png\",\n",
    "    \"run.exe\",\n",
    "    \"i.dll\",\n",
    "]"
   ]
  }
 ],
 "metadata": {
  "kernelspec": {
   "display_name": "Python 3 (ipykernel)",
   "language": "python",
   "name": "python3"
  },
  "language_info": {
   "codemirror_mode": {
    "name": "ipython",
    "version": 3
   },
   "file_extension": ".py",
   "mimetype": "text/x-python",
   "name": "python",
   "nbconvert_exporter": "python",
   "pygments_lexer": "ipython3",
   "version": "3.12.3"
  },
  "toc": {
   "base_numbering": 1,
   "nav_menu": {},
   "number_sections": true,
   "sideBar": true,
   "skip_h1_title": false,
   "title_cell": "Table of Contents",
   "title_sidebar": "Contents",
   "toc_cell": false,
   "toc_position": {},
   "toc_section_display": true,
   "toc_window_display": false
  },
  "varInspector": {
   "cols": {
    "lenName": 16,
    "lenType": 16,
    "lenVar": 40
   },
   "kernels_config": {
    "python": {
     "delete_cmd_postfix": "",
     "delete_cmd_prefix": "del ",
     "library": "var_list.py",
     "varRefreshCmd": "print(var_dic_list())"
    },
    "r": {
     "delete_cmd_postfix": ") ",
     "delete_cmd_prefix": "rm(",
     "library": "var_list.r",
     "varRefreshCmd": "cat(var_dic_list()) "
    }
   },
   "types_to_exclude": [
    "module",
    "function",
    "builtin_function_or_method",
    "instance",
    "_Feature"
   ],
   "window_display": false
  }
 },
 "nbformat": 4,
 "nbformat_minor": 5
}
