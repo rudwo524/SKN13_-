{
 "cells": [
  {
   "cell_type": "code",
   "execution_count": 4,
   "id": "a87473a6-170a-43ed-bd1d-fbfbe4a0e941",
   "metadata": {},
   "outputs": [
    {
     "data": {
      "text/plain": [
       "2"
      ]
     },
     "execution_count": 4,
     "metadata": {},
     "output_type": "execute_result"
    }
   ],
   "source": [
    "# shift + enter: 실행 후 다음 cell로 이동\n",
    "# control + enter: 실행 후 그 cell에 머물러 있는다.\n",
    "1+1"
   ]
  },
  {
   "cell_type": "markdown",
   "id": "f6c79149-b984-40e6-94a6-831f27c55f99",
   "metadata": {},
   "source": [
    "# 명령 모드\n",
    "- a: 위에 빈 cell을 추가\n",
    "- b: 아래에 빈 cell를 추가\n",
    "- x: cell를 잘라내기\n",
    "- v: cell을 붙여넣기\n",
    "- dd: cell 삭제\n",
    "- y: cell을 **코드모드**로 변경\n",
    "- m: cell을 *마크다운*으로 변경"
   ]
  },
  {
   "cell_type": "code",
   "execution_count": null,
   "id": "e8985650-bf54-4d4b-a1d5-c8ce1be15dfe",
   "metadata": {},
   "outputs": [],
   "source": []
  }
 ],
 "metadata": {
  "kernelspec": {
   "display_name": "Python 3 (ipykernel)",
   "language": "python",
   "name": "python3"
  },
  "language_info": {
   "codemirror_mode": {
    "name": "ipython",
    "version": 3
   },
   "file_extension": ".py",
   "mimetype": "text/x-python",
   "name": "python",
   "nbconvert_exporter": "python",
   "pygments_lexer": "ipython3",
   "version": "3.12.3"
  }
 },
 "nbformat": 4,
 "nbformat_minor": 5
}
